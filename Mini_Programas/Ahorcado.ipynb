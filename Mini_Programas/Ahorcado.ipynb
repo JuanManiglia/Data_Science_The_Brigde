{
 "cells": [
  {
   "cell_type": "code",
   "execution_count": 1,
   "source": [
    "def ahorcado():\r\n",
    "\r\n",
    "    palabra = \"palabra\"\r\n",
    "    rayita = \"_ \"\r\n",
    "    palabra_separada = \"\"\r\n",
    "    for l in palabra:\r\n",
    "        palabra_separada += (l + \" \")\r\n",
    "    longitud = len(palabra)  # Longiud de la palabra a adivinar\r\n",
    "    rayas = longitud * rayita  # Calculamos las rayitas\r\n",
    "    \r\n",
    "    print(rayas)\r\n",
    "    fallos = 0\r\n",
    "    \r\n",
    "    while True:\r\n",
    "        letra = input(\"Introduce una letra:\")  # Le pide una letra al usuario\r\n",
    "        \r\n",
    "        ####### AQUÍ ACIERTA LA LETRA EL USUARIO ########\r\n",
    "        \r\n",
    "        if letra in palabra:  # El usuario ha acertado una letra\r\n",
    "            lista_posiciones = []\r\n",
    "            for pos, caracter in enumerate(palabra_separada):  # Busco la posición de esa letra\r\n",
    "                if caracter == letra:\r\n",
    "                    posicion = pos # Capturo la posición\r\n",
    "                    lista_posiciones.append(pos)  # Tengo la posición de la letra\r\n",
    "\r\n",
    "            # Ahora tenemos una lista 'lista_posiciones' con las posiciones de la letra\r\n",
    "            # 'palabra_separada' tiene la misma long que 'rayas'\r\n",
    "\r\n",
    "            # Hay que sustituir en 'rayas' la 'letra' en las posiciones de la 'lista_posiciones'\r\n",
    "            rayas2 = list(rayas)\r\n",
    "            for posicion in lista_posiciones:\r\n",
    "                rayas2[posicion] = letra\r\n",
    "            rayas = \"\".join(rayas2)\r\n",
    "            print(rayas)\r\n",
    "            \r\n",
    "            if \"_ \" not in rayas:\r\n",
    "                print(\"Has ganado\")\r\n",
    "                break\r\n",
    "                \r\n",
    "        ######## AQUÍ FALLA LA LETRA EL USUARIO ########\r\n",
    "        else:\r\n",
    "        \r\n",
    "            fallos += 1\r\n",
    "            print(f\"Has fallado. Fallos: {fallos}\")\r\n",
    "            if fallos == 6:\r\n",
    "                print(\"Has perdido.\")\r\n",
    "                break\r\n",
    "\r\n",
    "ahorcado()\r\n"
   ],
   "outputs": [
    {
     "output_type": "stream",
     "name": "stdout",
     "text": [
      "_ _ _ _ _ _ _ \n",
      "_ a _ a _ _ a \n",
      "p a _ a _ _ a \n",
      "p a l a _ _ a \n",
      "Has fallado. Fallos: 1\n",
      "Has fallado. Fallos: 2\n",
      "Has fallado. Fallos: 3\n",
      "Has fallado. Fallos: 4\n",
      "p a l a b _ a \n",
      "p a l a b r a \n",
      "Has ganado\n"
     ]
    }
   ],
   "metadata": {}
  }
 ],
 "metadata": {
  "orig_nbformat": 4,
  "language_info": {
   "name": "python",
   "version": "3.7.4",
   "mimetype": "text/x-python",
   "codemirror_mode": {
    "name": "ipython",
    "version": 3
   },
   "pygments_lexer": "ipython3",
   "nbconvert_exporter": "python",
   "file_extension": ".py"
  },
  "kernelspec": {
   "name": "python3",
   "display_name": "Python 3.7.4 64-bit"
  },
  "interpreter": {
   "hash": "129c28eb7371f81f3b772b69408a02d1e141a0d5c957c78df09fa0d1b2bc4f41"
  }
 },
 "nbformat": 4,
 "nbformat_minor": 2
}