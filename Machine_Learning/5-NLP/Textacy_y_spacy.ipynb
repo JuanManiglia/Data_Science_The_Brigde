{
  "cells": [
    {
      "cell_type": "markdown",
      "metadata": {
        "id": "dM0AU5JmpZa3"
      },
      "source": [
        "# Textacy & Spacy\n",
        "Librerias de procesado de NLP"
      ]
    },
    {
      "cell_type": "code",
      "execution_count": 1,
      "metadata": {},
      "outputs": [
        {
          "name": "stderr",
          "output_type": "stream",
          "text": [
            "\"pip\" no se reconoce como un comando interno o externo,\n",
            "programa o archivo por lotes ejecutable.\n",
            "\"pip\" no se reconoce como un comando interno o externo,\n",
            "programa o archivo por lotes ejecutable.\n"
          ]
        },
        {
          "name": "stdout",
          "output_type": "stream",
          "text": [
            "Collecting en-core-web-lg==3.2.0\n",
            "  Downloading https://github.com/explosion/spacy-models/releases/download/en_core_web_lg-3.2.0/en_core_web_lg-3.2.0-py3-none-any.whl (777.4 MB)\n",
            "Requirement already satisfied: spacy<3.3.0,>=3.2.0 in c:\\users\\jamr1\\appdata\\roaming\\python\\python37\\site-packages (from en-core-web-lg==3.2.0) (3.2.0)\n",
            "Requirement already satisfied: typing-extensions<4.0.0.0,>=3.7.4 in c:\\users\\jamr1\\appdata\\local\\programs\\python\\python37\\lib\\site-packages (from spacy<3.3.0,>=3.2.0->en-core-web-lg==3.2.0) (3.7.4.3)\n",
            "Requirement already satisfied: spacy-loggers<2.0.0,>=1.0.0 in c:\\users\\jamr1\\appdata\\roaming\\python\\python37\\site-packages (from spacy<3.3.0,>=3.2.0->en-core-web-lg==3.2.0) (1.0.1)\n",
            "Requirement already satisfied: srsly<3.0.0,>=2.4.1 in c:\\users\\jamr1\\appdata\\local\\programs\\python\\python37\\lib\\site-packages (from spacy<3.3.0,>=3.2.0->en-core-web-lg==3.2.0) (2.4.2)\n",
            "Requirement already satisfied: pathy>=0.3.5 in c:\\users\\jamr1\\appdata\\roaming\\python\\python37\\site-packages (from spacy<3.3.0,>=3.2.0->en-core-web-lg==3.2.0) (0.6.1)\n",
            "Requirement already satisfied: wasabi<1.1.0,>=0.8.1 in c:\\users\\jamr1\\appdata\\local\\programs\\python\\python37\\lib\\site-packages (from spacy<3.3.0,>=3.2.0->en-core-web-lg==3.2.0) (0.8.2)\n",
            "Requirement already satisfied: spacy-legacy<3.1.0,>=3.0.8 in c:\\users\\jamr1\\appdata\\roaming\\python\\python37\\site-packages (from spacy<3.3.0,>=3.2.0->en-core-web-lg==3.2.0) (3.0.8)\n",
            "Requirement already satisfied: catalogue<2.1.0,>=2.0.6 in c:\\users\\jamr1\\appdata\\local\\programs\\python\\python37\\lib\\site-packages (from spacy<3.3.0,>=3.2.0->en-core-web-lg==3.2.0) (2.0.6)\n",
            "Requirement already satisfied: blis<0.8.0,>=0.4.0 in c:\\users\\jamr1\\appdata\\local\\programs\\python\\python37\\lib\\site-packages (from spacy<3.3.0,>=3.2.0->en-core-web-lg==3.2.0) (0.7.5)\n",
            "Requirement already satisfied: packaging>=20.0 in c:\\users\\jamr1\\appdata\\local\\programs\\python\\python37\\lib\\site-packages (from spacy<3.3.0,>=3.2.0->en-core-web-lg==3.2.0) (21.0)\n",
            "Requirement already satisfied: murmurhash<1.1.0,>=0.28.0 in c:\\users\\jamr1\\appdata\\local\\programs\\python\\python37\\lib\\site-packages (from spacy<3.3.0,>=3.2.0->en-core-web-lg==3.2.0) (1.0.6)\n",
            "Requirement already satisfied: langcodes<4.0.0,>=3.2.0 in c:\\users\\jamr1\\appdata\\roaming\\python\\python37\\site-packages (from spacy<3.3.0,>=3.2.0->en-core-web-lg==3.2.0) (3.3.0)\n",
            "Requirement already satisfied: tqdm<5.0.0,>=4.38.0 in c:\\users\\jamr1\\appdata\\local\\programs\\python\\python37\\lib\\site-packages (from spacy<3.3.0,>=3.2.0->en-core-web-lg==3.2.0) (4.56.0)\n",
            "Requirement already satisfied: setuptools in c:\\users\\jamr1\\appdata\\roaming\\python\\python37\\site-packages (from spacy<3.3.0,>=3.2.0->en-core-web-lg==3.2.0) (59.2.0)\n",
            "Requirement already satisfied: numpy>=1.15.0 in c:\\users\\jamr1\\appdata\\local\\programs\\python\\python37\\lib\\site-packages (from spacy<3.3.0,>=3.2.0->en-core-web-lg==3.2.0) (1.19.5)\n",
            "Requirement already satisfied: thinc<8.1.0,>=8.0.12 in c:\\users\\jamr1\\appdata\\roaming\\python\\python37\\site-packages (from spacy<3.3.0,>=3.2.0->en-core-web-lg==3.2.0) (8.0.13)\n",
            "Requirement already satisfied: typer<0.5.0,>=0.3.0 in c:\\users\\jamr1\\appdata\\local\\programs\\python\\python37\\lib\\site-packages (from spacy<3.3.0,>=3.2.0->en-core-web-lg==3.2.0) (0.4.0)\n",
            "Requirement already satisfied: jinja2 in c:\\users\\jamr1\\appdata\\local\\programs\\python\\python37\\lib\\site-packages (from spacy<3.3.0,>=3.2.0->en-core-web-lg==3.2.0) (3.0.1)\n",
            "Requirement already satisfied: preshed<3.1.0,>=3.0.2 in c:\\users\\jamr1\\appdata\\local\\programs\\python\\python37\\lib\\site-packages (from spacy<3.3.0,>=3.2.0->en-core-web-lg==3.2.0) (3.0.6)\n",
            "Requirement already satisfied: pydantic!=1.8,!=1.8.1,<1.9.0,>=1.7.4 in c:\\users\\jamr1\\appdata\\local\\programs\\python\\python37\\lib\\site-packages (from spacy<3.3.0,>=3.2.0->en-core-web-lg==3.2.0) (1.8.2)\n",
            "Requirement already satisfied: requests<3.0.0,>=2.13.0 in c:\\users\\jamr1\\appdata\\roaming\\python\\python37\\site-packages (from spacy<3.3.0,>=3.2.0->en-core-web-lg==3.2.0) (2.26.0)\n",
            "Requirement already satisfied: cymem<2.1.0,>=2.0.2 in c:\\users\\jamr1\\appdata\\local\\programs\\python\\python37\\lib\\site-packages (from spacy<3.3.0,>=3.2.0->en-core-web-lg==3.2.0) (2.0.6)\n",
            "Requirement already satisfied: zipp>=0.5 in c:\\users\\jamr1\\appdata\\roaming\\python\\python37\\site-packages (from catalogue<2.1.0,>=2.0.6->spacy<3.3.0,>=3.2.0->en-core-web-lg==3.2.0) (3.6.0)\n",
            "Requirement already satisfied: pyparsing>=2.0.2 in c:\\users\\jamr1\\appdata\\local\\programs\\python\\python37\\lib\\site-packages (from packaging>=20.0->spacy<3.3.0,>=3.2.0->en-core-web-lg==3.2.0) (2.4.7)\n",
            "Requirement already satisfied: smart-open<6.0.0,>=5.0.0 in c:\\users\\jamr1\\appdata\\local\\programs\\python\\python37\\lib\\site-packages (from pathy>=0.3.5->spacy<3.3.0,>=3.2.0->en-core-web-lg==3.2.0) (5.2.1)\n",
            "Requirement already satisfied: charset-normalizer~=2.0.0 in c:\\users\\jamr1\\appdata\\roaming\\python\\python37\\site-packages (from requests<3.0.0,>=2.13.0->spacy<3.3.0,>=3.2.0->en-core-web-lg==3.2.0) (2.0.7)\n",
            "Requirement already satisfied: idna<4,>=2.5 in c:\\users\\jamr1\\appdata\\roaming\\python\\python37\\site-packages (from requests<3.0.0,>=2.13.0->spacy<3.3.0,>=3.2.0->en-core-web-lg==3.2.0) (3.3)\n",
            "Requirement already satisfied: certifi>=2017.4.17 in c:\\users\\jamr1\\appdata\\roaming\\python\\python37\\site-packages (from requests<3.0.0,>=2.13.0->spacy<3.3.0,>=3.2.0->en-core-web-lg==3.2.0) (2021.10.8)\n",
            "Requirement already satisfied: urllib3<1.27,>=1.21.1 in c:\\users\\jamr1\\appdata\\roaming\\python\\python37\\site-packages (from requests<3.0.0,>=2.13.0->spacy<3.3.0,>=3.2.0->en-core-web-lg==3.2.0) (1.26.7)\n",
            "Requirement already satisfied: click<9.0.0,>=7.1.1 in c:\\users\\jamr1\\appdata\\local\\programs\\python\\python37\\lib\\site-packages (from typer<0.5.0,>=0.3.0->spacy<3.3.0,>=3.2.0->en-core-web-lg==3.2.0) (7.1.2)\n",
            "Requirement already satisfied: MarkupSafe>=2.0 in c:\\users\\jamr1\\appdata\\local\\programs\\python\\python37\\lib\\site-packages (from jinja2->spacy<3.3.0,>=3.2.0->en-core-web-lg==3.2.0) (2.0.1)\n",
            "Installing collected packages: en-core-web-lg\n",
            "Successfully installed en-core-web-lg-3.2.0\n",
            "✔ Download and installation successful\n",
            "You can now load the package via spacy.load('en_core_web_lg')\n"
          ]
        },
        {
          "name": "stderr",
          "output_type": "stream",
          "text": [
            "C:\\Users\\jamr1\\AppData\\Local\\Programs\\Python\\Python37\\lib\\site-packages\\numpy\\_distributor_init.py:32: UserWarning: loaded more than 1 DLL from .libs:\n",
            "C:\\Users\\jamr1\\AppData\\Local\\Programs\\Python\\Python37\\lib\\site-packages\\numpy\\.libs\\libopenblas.WCDJNK7YVMPZQ2ME2ZZHJJRJ3JIKNDB7.gfortran-win_amd64.dll\n",
            "C:\\Users\\jamr1\\AppData\\Local\\Programs\\Python\\Python37\\lib\\site-packages\\numpy\\.libs\\libopenblas.XWYDX2IKJW2NMTWSFYNGFUWKQU3LYTCZ.gfortran-win_amd64.dll\n",
            "  stacklevel=1)\n",
            "WARNING: Ignoring invalid distribution -ip (c:\\users\\jamr1\\appdata\\local\\programs\\python\\python37\\lib\\site-packages)\n",
            "WARNING: Ignoring invalid distribution -ensorflow-gpu (c:\\users\\jamr1\\appdata\\local\\programs\\python\\python37\\lib\\site-packages)\n",
            "WARNING: Ignoring invalid distribution -ip (c:\\users\\jamr1\\appdata\\local\\programs\\python\\python37\\lib\\site-packages)\n",
            "WARNING: Ignoring invalid distribution -ensorflow-gpu (c:\\users\\jamr1\\appdata\\local\\programs\\python\\python37\\lib\\site-packages)\n",
            "WARNING: Ignoring invalid distribution -ip (c:\\users\\jamr1\\appdata\\local\\programs\\python\\python37\\lib\\site-packages)\n",
            "WARNING: Ignoring invalid distribution -ensorflow-gpu (c:\\users\\jamr1\\appdata\\local\\programs\\python\\python37\\lib\\site-packages)\n",
            "WARNING: Ignoring invalid distribution -ip (c:\\users\\jamr1\\appdata\\local\\programs\\python\\python37\\lib\\site-packages)\n",
            "WARNING: Ignoring invalid distribution -ensorflow-gpu (c:\\users\\jamr1\\appdata\\local\\programs\\python\\python37\\lib\\site-packages)\n"
          ]
        },
        {
          "name": "stdout",
          "output_type": "stream",
          "text": [
            "Collecting es-core-news-lg==3.2.0"
          ]
        },
        {
          "name": "stderr",
          "output_type": "stream",
          "text": [
            "C:\\Users\\jamr1\\AppData\\Local\\Programs\\Python\\Python37\\lib\\site-packages\\numpy\\_distributor_init.py:32: UserWarning: loaded more than 1 DLL from .libs:\n",
            "C:\\Users\\jamr1\\AppData\\Local\\Programs\\Python\\Python37\\lib\\site-packages\\numpy\\.libs\\libopenblas.WCDJNK7YVMPZQ2ME2ZZHJJRJ3JIKNDB7.gfortran-win_amd64.dll\n",
            "C:\\Users\\jamr1\\AppData\\Local\\Programs\\Python\\Python37\\lib\\site-packages\\numpy\\.libs\\libopenblas.XWYDX2IKJW2NMTWSFYNGFUWKQU3LYTCZ.gfortran-win_amd64.dll\n",
            "  stacklevel=1)\n",
            "WARNING: Ignoring invalid distribution -ip (c:\\users\\jamr1\\appdata\\local\\programs\\python\\python37\\lib\\site-packages)\n",
            "WARNING: Ignoring invalid distribution -ensorflow-gpu (c:\\users\\jamr1\\appdata\\local\\programs\\python\\python37\\lib\\site-packages)\n",
            "WARNING: Ignoring invalid distribution -ip (c:\\users\\jamr1\\appdata\\local\\programs\\python\\python37\\lib\\site-packages)\n",
            "WARNING: Ignoring invalid distribution -ensorflow-gpu (c:\\users\\jamr1\\appdata\\local\\programs\\python\\python37\\lib\\site-packages)\n",
            "WARNING: Ignoring invalid distribution -ip (c:\\users\\jamr1\\appdata\\local\\programs\\python\\python37\\lib\\site-packages)\n",
            "WARNING: Ignoring invalid distribution -ensorflow-gpu (c:\\users\\jamr1\\appdata\\local\\programs\\python\\python37\\lib\\site-packages)\n",
            "WARNING: Ignoring invalid distribution -ip (c:\\users\\jamr1\\appdata\\local\\programs\\python\\python37\\lib\\site-packages)\n",
            "WARNING: Ignoring invalid distribution -ensorflow-gpu (c:\\users\\jamr1\\appdata\\local\\programs\\python\\python37\\lib\\site-packages)\n"
          ]
        },
        {
          "name": "stdout",
          "output_type": "stream",
          "text": [
            "\n",
            "  Downloading https://github.com/explosion/spacy-models/releases/download/es_core_news_lg-3.2.0/es_core_news_lg-3.2.0-py3-none-any.whl (569.1 MB)\n",
            "Requirement already satisfied: spacy<3.3.0,>=3.2.0 in c:\\users\\jamr1\\appdata\\roaming\\python\\python37\\site-packages (from es-core-news-lg==3.2.0) (3.2.0)\n",
            "Requirement already satisfied: thinc<8.1.0,>=8.0.12 in c:\\users\\jamr1\\appdata\\roaming\\python\\python37\\site-packages (from spacy<3.3.0,>=3.2.0->es-core-news-lg==3.2.0) (8.0.13)\n",
            "Requirement already satisfied: spacy-loggers<2.0.0,>=1.0.0 in c:\\users\\jamr1\\appdata\\roaming\\python\\python37\\site-packages (from spacy<3.3.0,>=3.2.0->es-core-news-lg==3.2.0) (1.0.1)\n",
            "Requirement already satisfied: langcodes<4.0.0,>=3.2.0 in c:\\users\\jamr1\\appdata\\roaming\\python\\python37\\site-packages (from spacy<3.3.0,>=3.2.0->es-core-news-lg==3.2.0) (3.3.0)\n",
            "Requirement already satisfied: blis<0.8.0,>=0.4.0 in c:\\users\\jamr1\\appdata\\local\\programs\\python\\python37\\lib\\site-packages (from spacy<3.3.0,>=3.2.0->es-core-news-lg==3.2.0) (0.7.5)\n",
            "Requirement already satisfied: typer<0.5.0,>=0.3.0 in c:\\users\\jamr1\\appdata\\local\\programs\\python\\python37\\lib\\site-packages (from spacy<3.3.0,>=3.2.0->es-core-news-lg==3.2.0) (0.4.0)\n",
            "Requirement already satisfied: jinja2 in c:\\users\\jamr1\\appdata\\local\\programs\\python\\python37\\lib\\site-packages (from spacy<3.3.0,>=3.2.0->es-core-news-lg==3.2.0) (3.0.1)\n",
            "Requirement already satisfied: cymem<2.1.0,>=2.0.2 in c:\\users\\jamr1\\appdata\\local\\programs\\python\\python37\\lib\\site-packages (from spacy<3.3.0,>=3.2.0->es-core-news-lg==3.2.0) (2.0.6)\n",
            "Requirement already satisfied: wasabi<1.1.0,>=0.8.1 in c:\\users\\jamr1\\appdata\\local\\programs\\python\\python37\\lib\\site-packages (from spacy<3.3.0,>=3.2.0->es-core-news-lg==3.2.0) (0.8.2)\n",
            "Requirement already satisfied: tqdm<5.0.0,>=4.38.0 in c:\\users\\jamr1\\appdata\\local\\programs\\python\\python37\\lib\\site-packages (from spacy<3.3.0,>=3.2.0->es-core-news-lg==3.2.0) (4.56.0)\n",
            "Requirement already satisfied: catalogue<2.1.0,>=2.0.6 in c:\\users\\jamr1\\appdata\\local\\programs\\python\\python37\\lib\\site-packages (from spacy<3.3.0,>=3.2.0->es-core-news-lg==3.2.0) (2.0.6)\n",
            "Requirement already satisfied: murmurhash<1.1.0,>=0.28.0 in c:\\users\\jamr1\\appdata\\local\\programs\\python\\python37\\lib\\site-packages (from spacy<3.3.0,>=3.2.0->es-core-news-lg==3.2.0) (1.0.6)\n",
            "Requirement already satisfied: requests<3.0.0,>=2.13.0 in c:\\users\\jamr1\\appdata\\roaming\\python\\python37\\site-packages (from spacy<3.3.0,>=3.2.0->es-core-news-lg==3.2.0) (2.26.0)\n",
            "Requirement already satisfied: preshed<3.1.0,>=3.0.2 in c:\\users\\jamr1\\appdata\\local\\programs\\python\\python37\\lib\\site-packages (from spacy<3.3.0,>=3.2.0->es-core-news-lg==3.2.0) (3.0.6)\n",
            "Requirement already satisfied: numpy>=1.15.0 in c:\\users\\jamr1\\appdata\\local\\programs\\python\\python37\\lib\\site-packages (from spacy<3.3.0,>=3.2.0->es-core-news-lg==3.2.0) (1.19.5)\n",
            "Requirement already satisfied: typing-extensions<4.0.0.0,>=3.7.4 in c:\\users\\jamr1\\appdata\\local\\programs\\python\\python37\\lib\\site-packages (from spacy<3.3.0,>=3.2.0->es-core-news-lg==3.2.0) (3.7.4.3)\n",
            "Requirement already satisfied: spacy-legacy<3.1.0,>=3.0.8 in c:\\users\\jamr1\\appdata\\roaming\\python\\python37\\site-packages (from spacy<3.3.0,>=3.2.0->es-core-news-lg==3.2.0) (3.0.8)\n",
            "Requirement already satisfied: pydantic!=1.8,!=1.8.1,<1.9.0,>=1.7.4 in c:\\users\\jamr1\\appdata\\local\\programs\\python\\python37\\lib\\site-packages (from spacy<3.3.0,>=3.2.0->es-core-news-lg==3.2.0) (1.8.2)\n",
            "Requirement already satisfied: setuptools in c:\\users\\jamr1\\appdata\\roaming\\python\\python37\\site-packages (from spacy<3.3.0,>=3.2.0->es-core-news-lg==3.2.0) (59.2.0)\n",
            "Requirement already satisfied: srsly<3.0.0,>=2.4.1 in c:\\users\\jamr1\\appdata\\local\\programs\\python\\python37\\lib\\site-packages (from spacy<3.3.0,>=3.2.0->es-core-news-lg==3.2.0) (2.4.2)\n",
            "Requirement already satisfied: packaging>=20.0 in c:\\users\\jamr1\\appdata\\local\\programs\\python\\python37\\lib\\site-packages (from spacy<3.3.0,>=3.2.0->es-core-news-lg==3.2.0) (21.0)\n",
            "Requirement already satisfied: pathy>=0.3.5 in c:\\users\\jamr1\\appdata\\roaming\\python\\python37\\site-packages (from spacy<3.3.0,>=3.2.0->es-core-news-lg==3.2.0) (0.6.1)\n",
            "Requirement already satisfied: zipp>=0.5 in c:\\users\\jamr1\\appdata\\roaming\\python\\python37\\site-packages (from catalogue<2.1.0,>=2.0.6->spacy<3.3.0,>=3.2.0->es-core-news-lg==3.2.0) (3.6.0)\n",
            "Requirement already satisfied: pyparsing>=2.0.2 in c:\\users\\jamr1\\appdata\\local\\programs\\python\\python37\\lib\\site-packages (from packaging>=20.0->spacy<3.3.0,>=3.2.0->es-core-news-lg==3.2.0) (2.4.7)\n",
            "Requirement already satisfied: smart-open<6.0.0,>=5.0.0 in c:\\users\\jamr1\\appdata\\local\\programs\\python\\python37\\lib\\site-packages (from pathy>=0.3.5->spacy<3.3.0,>=3.2.0->es-core-news-lg==3.2.0) (5.2.1)\n",
            "Requirement already satisfied: charset-normalizer~=2.0.0 in c:\\users\\jamr1\\appdata\\roaming\\python\\python37\\site-packages (from requests<3.0.0,>=2.13.0->spacy<3.3.0,>=3.2.0->es-core-news-lg==3.2.0) (2.0.7)\n",
            "Requirement already satisfied: urllib3<1.27,>=1.21.1 in c:\\users\\jamr1\\appdata\\roaming\\python\\python37\\site-packages (from requests<3.0.0,>=2.13.0->spacy<3.3.0,>=3.2.0->es-core-news-lg==3.2.0) (1.26.7)\n",
            "Requirement already satisfied: certifi>=2017.4.17 in c:\\users\\jamr1\\appdata\\roaming\\python\\python37\\site-packages (from requests<3.0.0,>=2.13.0->spacy<3.3.0,>=3.2.0->es-core-news-lg==3.2.0) (2021.10.8)\n",
            "Requirement already satisfied: idna<4,>=2.5 in c:\\users\\jamr1\\appdata\\roaming\\python\\python37\\site-packages (from requests<3.0.0,>=2.13.0->spacy<3.3.0,>=3.2.0->es-core-news-lg==3.2.0) (3.3)\n",
            "Requirement already satisfied: click<9.0.0,>=7.1.1 in c:\\users\\jamr1\\appdata\\local\\programs\\python\\python37\\lib\\site-packages (from typer<0.5.0,>=0.3.0->spacy<3.3.0,>=3.2.0->es-core-news-lg==3.2.0) (7.1.2)\n",
            "Requirement already satisfied: MarkupSafe>=2.0 in c:\\users\\jamr1\\appdata\\local\\programs\\python\\python37\\lib\\site-packages (from jinja2->spacy<3.3.0,>=3.2.0->es-core-news-lg==3.2.0) (2.0.1)\n",
            "Installing collected packages: es-core-news-lg\n",
            "Successfully installed es-core-news-lg-3.2.0\n",
            "✔ Download and installation successful\n",
            "You can now load the package via spacy.load('es_core_news_lg')\n"
          ]
        }
      ],
      "source": [
        "'''\n",
        "Versiones compatibles\n",
        "Despues hay que reiniciar el entorno de ejecución\n",
        "'''\n",
        "!pip install spacy\n",
        "!pip install textacy\n",
        "\n",
        "# Para siguientes ejecuciones, solo ejecutar esto y reiniciar despues el entorno\n",
        "!python -m spacy download en_core_web_lg\n",
        "!python -m spacy download es_core_news_lg\n"
      ]
    },
    {
      "cell_type": "markdown",
      "metadata": {
        "id": "A5rKVBF0pKa6"
      },
      "source": [
        "# Spacy\n",
        "https://spacy.io/\n",
        "\n",
        "NOTA: Recuerda reiniciar el entorno de ejecucion despues de la instalacion"
      ]
    },
    {
      "cell_type": "code",
      "execution_count": 22,
      "metadata": {
        "id": "g5__omBtznMg"
      },
      "outputs": [],
      "source": [
        "import spacy\n",
        "\n",
        "nlp = spacy.load('en_core_web_lg')"
      ]
    },
    {
      "cell_type": "markdown",
      "metadata": {
        "id": "XvUcxUvRx3CT"
      },
      "source": [
        "## Text basics\n",
        "Veamos como trabajar cn estos primeros ejemplos con la libreria ´spacy´. Cosas que podemos hacer:\n",
        "1. Tokenizar en frases\n",
        "2. Tokenizar en palabras\n",
        "3. Acceder a los atributos de cada token\n",
        "4. Acceder a las entidades del texto\n",
        "5. Visualizar las entidades del texto"
      ]
    },
    {
      "cell_type": "code",
      "execution_count": 3,
      "metadata": {
        "colab": {
          "base_uri": "https://localhost:8080/"
        },
        "id": "yx7f0Wv9ul01",
        "outputId": "da5d47cf-de20-4e1e-ebcc-d4ee4e09b77b"
      },
      "outputs": [
        {
          "name": "stdout",
          "output_type": "stream",
          "text": [
            "\n",
            "London is the capital and most populous city of England and \n",
            "the United Kingdom.  Standing on the River Thames in the south east \n",
            "of the island of Great Britain, London has been a major settlement \n",
            "for two millennia. It was founded by the Romans, who named it Londinium.\n",
            "\n",
            "0 \n",
            "London is the capital and most populous city of England and \n",
            "the United Kingdom.\n",
            "1  Standing on the River Thames in the south east \n",
            "of the island of Great Britain, London has been a major settlement \n",
            "for two millennia.\n",
            "2 It was founded by the Romans, who named it Londinium.\n",
            "3 \n",
            "\n",
            "\n",
            " \n",
            " SPACE False\n",
            "London London PROPN False\n",
            "is be AUX True\n",
            "the the DET True\n",
            "capital capital NOUN False\n",
            "and and CCONJ True\n",
            "most most ADV True\n",
            "populous populous ADJ False\n",
            "city city NOUN False\n",
            "of of ADP True\n",
            "England England PROPN False\n",
            "and and CCONJ True\n",
            "\n",
            " \n",
            " SPACE False\n",
            "the the DET True\n",
            "United United PROPN False\n",
            "Kingdom Kingdom PROPN False\n",
            ". . PUNCT False\n",
            "    SPACE False\n",
            "Standing stand VERB False\n",
            "on on ADP True\n"
          ]
        }
      ],
      "source": [
        "# The text we want to examine\n",
        "text = \"\"\"\n",
        "London is the capital and most populous city of England and \n",
        "the United Kingdom.  Standing on the River Thames in the south east \n",
        "of the island of Great Britain, London has been a major settlement \n",
        "for two millennia. It was founded by the Romans, who named it Londinium.\n",
        "\"\"\"\n",
        "\n",
        "doc = nlp(text)\n",
        "\n",
        "print(doc)\n",
        "\n",
        "for num, sentence in enumerate(doc.sents):\n",
        "  print(num, sentence)\n",
        "\n",
        "\n",
        "for word in doc[:20]:\n",
        "  print(word.text, word.lemma_, word.pos_, word.is_stop)"
      ]
    },
    {
      "cell_type": "code",
      "execution_count": 4,
      "metadata": {
        "colab": {
          "base_uri": "https://localhost:8080/"
        },
        "id": "JIe3TYa9RNfm",
        "outputId": "f90a4cd9-f411-41e5-a000-750fb5f88e7d"
      },
      "outputs": [
        {
          "data": {
            "text/plain": [
              "spacy.tokens.doc.Doc"
            ]
          },
          "execution_count": 4,
          "metadata": {},
          "output_type": "execute_result"
        }
      ],
      "source": [
        "type(doc)"
      ]
    },
    {
      "cell_type": "markdown",
      "metadata": {
        "id": "UpBWJ2gby81T"
      },
      "source": [
        "## Syntactic analysis\n",
        "Doing the school homework"
      ]
    },
    {
      "cell_type": "code",
      "execution_count": 5,
      "metadata": {
        "colab": {
          "base_uri": "https://localhost:8080/",
          "height": 615
        },
        "id": "9N42WYyyy86b",
        "outputId": "f2d56011-4783-4711-f8f7-445f2a46dfd2"
      },
      "outputs": [
        {
          "data": {
            "text/html": [
              "<span class=\"tex2jax_ignore\"><svg xmlns=\"http://www.w3.org/2000/svg\" xmlns:xlink=\"http://www.w3.org/1999/xlink\" xml:lang=\"en\" id=\"7ffad2b3ddd04c9e8c46f9e8f64b3c5e-0\" class=\"displacy\" width=\"2500\" height=\"574.5\" direction=\"ltr\" style=\"max-width: none; height: 574.5px; color: #000000; background: #ffffff; font-family: Arial; direction: ltr\">\n",
              "<text class=\"displacy-token\" fill=\"currentColor\" text-anchor=\"middle\" y=\"484.5\">\n",
              "    <tspan class=\"displacy-word\" fill=\"currentColor\" x=\"50\">London</tspan>\n",
              "    <tspan class=\"displacy-tag\" dy=\"2em\" fill=\"currentColor\" x=\"50\">PROPN</tspan>\n",
              "</text>\n",
              "\n",
              "<text class=\"displacy-token\" fill=\"currentColor\" text-anchor=\"middle\" y=\"484.5\">\n",
              "    <tspan class=\"displacy-word\" fill=\"currentColor\" x=\"225\">is</tspan>\n",
              "    <tspan class=\"displacy-tag\" dy=\"2em\" fill=\"currentColor\" x=\"225\">AUX</tspan>\n",
              "</text>\n",
              "\n",
              "<text class=\"displacy-token\" fill=\"currentColor\" text-anchor=\"middle\" y=\"484.5\">\n",
              "    <tspan class=\"displacy-word\" fill=\"currentColor\" x=\"400\">the</tspan>\n",
              "    <tspan class=\"displacy-tag\" dy=\"2em\" fill=\"currentColor\" x=\"400\">DET</tspan>\n",
              "</text>\n",
              "\n",
              "<text class=\"displacy-token\" fill=\"currentColor\" text-anchor=\"middle\" y=\"484.5\">\n",
              "    <tspan class=\"displacy-word\" fill=\"currentColor\" x=\"575\">capital</tspan>\n",
              "    <tspan class=\"displacy-tag\" dy=\"2em\" fill=\"currentColor\" x=\"575\">NOUN</tspan>\n",
              "</text>\n",
              "\n",
              "<text class=\"displacy-token\" fill=\"currentColor\" text-anchor=\"middle\" y=\"484.5\">\n",
              "    <tspan class=\"displacy-word\" fill=\"currentColor\" x=\"750\">and</tspan>\n",
              "    <tspan class=\"displacy-tag\" dy=\"2em\" fill=\"currentColor\" x=\"750\">CCONJ</tspan>\n",
              "</text>\n",
              "\n",
              "<text class=\"displacy-token\" fill=\"currentColor\" text-anchor=\"middle\" y=\"484.5\">\n",
              "    <tspan class=\"displacy-word\" fill=\"currentColor\" x=\"925\">most</tspan>\n",
              "    <tspan class=\"displacy-tag\" dy=\"2em\" fill=\"currentColor\" x=\"925\">ADV</tspan>\n",
              "</text>\n",
              "\n",
              "<text class=\"displacy-token\" fill=\"currentColor\" text-anchor=\"middle\" y=\"484.5\">\n",
              "    <tspan class=\"displacy-word\" fill=\"currentColor\" x=\"1100\">populous</tspan>\n",
              "    <tspan class=\"displacy-tag\" dy=\"2em\" fill=\"currentColor\" x=\"1100\">ADJ</tspan>\n",
              "</text>\n",
              "\n",
              "<text class=\"displacy-token\" fill=\"currentColor\" text-anchor=\"middle\" y=\"484.5\">\n",
              "    <tspan class=\"displacy-word\" fill=\"currentColor\" x=\"1275\">city</tspan>\n",
              "    <tspan class=\"displacy-tag\" dy=\"2em\" fill=\"currentColor\" x=\"1275\">NOUN</tspan>\n",
              "</text>\n",
              "\n",
              "<text class=\"displacy-token\" fill=\"currentColor\" text-anchor=\"middle\" y=\"484.5\">\n",
              "    <tspan class=\"displacy-word\" fill=\"currentColor\" x=\"1450\">of</tspan>\n",
              "    <tspan class=\"displacy-tag\" dy=\"2em\" fill=\"currentColor\" x=\"1450\">ADP</tspan>\n",
              "</text>\n",
              "\n",
              "<text class=\"displacy-token\" fill=\"currentColor\" text-anchor=\"middle\" y=\"484.5\">\n",
              "    <tspan class=\"displacy-word\" fill=\"currentColor\" x=\"1625\">England</tspan>\n",
              "    <tspan class=\"displacy-tag\" dy=\"2em\" fill=\"currentColor\" x=\"1625\">PROPN</tspan>\n",
              "</text>\n",
              "\n",
              "<text class=\"displacy-token\" fill=\"currentColor\" text-anchor=\"middle\" y=\"484.5\">\n",
              "    <tspan class=\"displacy-word\" fill=\"currentColor\" x=\"1800\">and</tspan>\n",
              "    <tspan class=\"displacy-tag\" dy=\"2em\" fill=\"currentColor\" x=\"1800\">CCONJ</tspan>\n",
              "</text>\n",
              "\n",
              "<text class=\"displacy-token\" fill=\"currentColor\" text-anchor=\"middle\" y=\"484.5\">\n",
              "    <tspan class=\"displacy-word\" fill=\"currentColor\" x=\"1975\">the</tspan>\n",
              "    <tspan class=\"displacy-tag\" dy=\"2em\" fill=\"currentColor\" x=\"1975\">DET</tspan>\n",
              "</text>\n",
              "\n",
              "<text class=\"displacy-token\" fill=\"currentColor\" text-anchor=\"middle\" y=\"484.5\">\n",
              "    <tspan class=\"displacy-word\" fill=\"currentColor\" x=\"2150\">United</tspan>\n",
              "    <tspan class=\"displacy-tag\" dy=\"2em\" fill=\"currentColor\" x=\"2150\">PROPN</tspan>\n",
              "</text>\n",
              "\n",
              "<text class=\"displacy-token\" fill=\"currentColor\" text-anchor=\"middle\" y=\"484.5\">\n",
              "    <tspan class=\"displacy-word\" fill=\"currentColor\" x=\"2325\">Kingdom</tspan>\n",
              "    <tspan class=\"displacy-tag\" dy=\"2em\" fill=\"currentColor\" x=\"2325\">PROPN</tspan>\n",
              "</text>\n",
              "\n",
              "<g class=\"displacy-arrow\">\n",
              "    <path class=\"displacy-arc\" id=\"arrow-7ffad2b3ddd04c9e8c46f9e8f64b3c5e-0-0\" stroke-width=\"2px\" d=\"M70,439.5 C70,352.0 205.0,352.0 205.0,439.5\" fill=\"none\" stroke=\"currentColor\"/>\n",
              "    <text dy=\"1.25em\" style=\"font-size: 0.8em; letter-spacing: 1px\">\n",
              "        <textPath xlink:href=\"#arrow-7ffad2b3ddd04c9e8c46f9e8f64b3c5e-0-0\" class=\"displacy-label\" startOffset=\"50%\" side=\"left\" fill=\"currentColor\" text-anchor=\"middle\">nsubj</textPath>\n",
              "    </text>\n",
              "    <path class=\"displacy-arrowhead\" d=\"M70,441.5 L62,429.5 78,429.5\" fill=\"currentColor\"/>\n",
              "</g>\n",
              "\n",
              "<g class=\"displacy-arrow\">\n",
              "    <path class=\"displacy-arc\" id=\"arrow-7ffad2b3ddd04c9e8c46f9e8f64b3c5e-0-1\" stroke-width=\"2px\" d=\"M420,439.5 C420,352.0 555.0,352.0 555.0,439.5\" fill=\"none\" stroke=\"currentColor\"/>\n",
              "    <text dy=\"1.25em\" style=\"font-size: 0.8em; letter-spacing: 1px\">\n",
              "        <textPath xlink:href=\"#arrow-7ffad2b3ddd04c9e8c46f9e8f64b3c5e-0-1\" class=\"displacy-label\" startOffset=\"50%\" side=\"left\" fill=\"currentColor\" text-anchor=\"middle\">det</textPath>\n",
              "    </text>\n",
              "    <path class=\"displacy-arrowhead\" d=\"M420,441.5 L412,429.5 428,429.5\" fill=\"currentColor\"/>\n",
              "</g>\n",
              "\n",
              "<g class=\"displacy-arrow\">\n",
              "    <path class=\"displacy-arc\" id=\"arrow-7ffad2b3ddd04c9e8c46f9e8f64b3c5e-0-2\" stroke-width=\"2px\" d=\"M245,439.5 C245,264.5 560.0,264.5 560.0,439.5\" fill=\"none\" stroke=\"currentColor\"/>\n",
              "    <text dy=\"1.25em\" style=\"font-size: 0.8em; letter-spacing: 1px\">\n",
              "        <textPath xlink:href=\"#arrow-7ffad2b3ddd04c9e8c46f9e8f64b3c5e-0-2\" class=\"displacy-label\" startOffset=\"50%\" side=\"left\" fill=\"currentColor\" text-anchor=\"middle\">attr</textPath>\n",
              "    </text>\n",
              "    <path class=\"displacy-arrowhead\" d=\"M560.0,441.5 L568.0,429.5 552.0,429.5\" fill=\"currentColor\"/>\n",
              "</g>\n",
              "\n",
              "<g class=\"displacy-arrow\">\n",
              "    <path class=\"displacy-arc\" id=\"arrow-7ffad2b3ddd04c9e8c46f9e8f64b3c5e-0-3\" stroke-width=\"2px\" d=\"M595,439.5 C595,352.0 730.0,352.0 730.0,439.5\" fill=\"none\" stroke=\"currentColor\"/>\n",
              "    <text dy=\"1.25em\" style=\"font-size: 0.8em; letter-spacing: 1px\">\n",
              "        <textPath xlink:href=\"#arrow-7ffad2b3ddd04c9e8c46f9e8f64b3c5e-0-3\" class=\"displacy-label\" startOffset=\"50%\" side=\"left\" fill=\"currentColor\" text-anchor=\"middle\">cc</textPath>\n",
              "    </text>\n",
              "    <path class=\"displacy-arrowhead\" d=\"M730.0,441.5 L738.0,429.5 722.0,429.5\" fill=\"currentColor\"/>\n",
              "</g>\n",
              "\n",
              "<g class=\"displacy-arrow\">\n",
              "    <path class=\"displacy-arc\" id=\"arrow-7ffad2b3ddd04c9e8c46f9e8f64b3c5e-0-4\" stroke-width=\"2px\" d=\"M945,439.5 C945,352.0 1080.0,352.0 1080.0,439.5\" fill=\"none\" stroke=\"currentColor\"/>\n",
              "    <text dy=\"1.25em\" style=\"font-size: 0.8em; letter-spacing: 1px\">\n",
              "        <textPath xlink:href=\"#arrow-7ffad2b3ddd04c9e8c46f9e8f64b3c5e-0-4\" class=\"displacy-label\" startOffset=\"50%\" side=\"left\" fill=\"currentColor\" text-anchor=\"middle\">advmod</textPath>\n",
              "    </text>\n",
              "    <path class=\"displacy-arrowhead\" d=\"M945,441.5 L937,429.5 953,429.5\" fill=\"currentColor\"/>\n",
              "</g>\n",
              "\n",
              "<g class=\"displacy-arrow\">\n",
              "    <path class=\"displacy-arc\" id=\"arrow-7ffad2b3ddd04c9e8c46f9e8f64b3c5e-0-5\" stroke-width=\"2px\" d=\"M595,439.5 C595,177.0 1090.0,177.0 1090.0,439.5\" fill=\"none\" stroke=\"currentColor\"/>\n",
              "    <text dy=\"1.25em\" style=\"font-size: 0.8em; letter-spacing: 1px\">\n",
              "        <textPath xlink:href=\"#arrow-7ffad2b3ddd04c9e8c46f9e8f64b3c5e-0-5\" class=\"displacy-label\" startOffset=\"50%\" side=\"left\" fill=\"currentColor\" text-anchor=\"middle\">conj</textPath>\n",
              "    </text>\n",
              "    <path class=\"displacy-arrowhead\" d=\"M1090.0,441.5 L1098.0,429.5 1082.0,429.5\" fill=\"currentColor\"/>\n",
              "</g>\n",
              "\n",
              "<g class=\"displacy-arrow\">\n",
              "    <path class=\"displacy-arc\" id=\"arrow-7ffad2b3ddd04c9e8c46f9e8f64b3c5e-0-6\" stroke-width=\"2px\" d=\"M595,439.5 C595,89.5 1270.0,89.5 1270.0,439.5\" fill=\"none\" stroke=\"currentColor\"/>\n",
              "    <text dy=\"1.25em\" style=\"font-size: 0.8em; letter-spacing: 1px\">\n",
              "        <textPath xlink:href=\"#arrow-7ffad2b3ddd04c9e8c46f9e8f64b3c5e-0-6\" class=\"displacy-label\" startOffset=\"50%\" side=\"left\" fill=\"currentColor\" text-anchor=\"middle\">conj</textPath>\n",
              "    </text>\n",
              "    <path class=\"displacy-arrowhead\" d=\"M1270.0,441.5 L1278.0,429.5 1262.0,429.5\" fill=\"currentColor\"/>\n",
              "</g>\n",
              "\n",
              "<g class=\"displacy-arrow\">\n",
              "    <path class=\"displacy-arc\" id=\"arrow-7ffad2b3ddd04c9e8c46f9e8f64b3c5e-0-7\" stroke-width=\"2px\" d=\"M1295,439.5 C1295,352.0 1430.0,352.0 1430.0,439.5\" fill=\"none\" stroke=\"currentColor\"/>\n",
              "    <text dy=\"1.25em\" style=\"font-size: 0.8em; letter-spacing: 1px\">\n",
              "        <textPath xlink:href=\"#arrow-7ffad2b3ddd04c9e8c46f9e8f64b3c5e-0-7\" class=\"displacy-label\" startOffset=\"50%\" side=\"left\" fill=\"currentColor\" text-anchor=\"middle\">prep</textPath>\n",
              "    </text>\n",
              "    <path class=\"displacy-arrowhead\" d=\"M1430.0,441.5 L1438.0,429.5 1422.0,429.5\" fill=\"currentColor\"/>\n",
              "</g>\n",
              "\n",
              "<g class=\"displacy-arrow\">\n",
              "    <path class=\"displacy-arc\" id=\"arrow-7ffad2b3ddd04c9e8c46f9e8f64b3c5e-0-8\" stroke-width=\"2px\" d=\"M1470,439.5 C1470,352.0 1605.0,352.0 1605.0,439.5\" fill=\"none\" stroke=\"currentColor\"/>\n",
              "    <text dy=\"1.25em\" style=\"font-size: 0.8em; letter-spacing: 1px\">\n",
              "        <textPath xlink:href=\"#arrow-7ffad2b3ddd04c9e8c46f9e8f64b3c5e-0-8\" class=\"displacy-label\" startOffset=\"50%\" side=\"left\" fill=\"currentColor\" text-anchor=\"middle\">pobj</textPath>\n",
              "    </text>\n",
              "    <path class=\"displacy-arrowhead\" d=\"M1605.0,441.5 L1613.0,429.5 1597.0,429.5\" fill=\"currentColor\"/>\n",
              "</g>\n",
              "\n",
              "<g class=\"displacy-arrow\">\n",
              "    <path class=\"displacy-arc\" id=\"arrow-7ffad2b3ddd04c9e8c46f9e8f64b3c5e-0-9\" stroke-width=\"2px\" d=\"M1295,439.5 C1295,177.0 1790.0,177.0 1790.0,439.5\" fill=\"none\" stroke=\"currentColor\"/>\n",
              "    <text dy=\"1.25em\" style=\"font-size: 0.8em; letter-spacing: 1px\">\n",
              "        <textPath xlink:href=\"#arrow-7ffad2b3ddd04c9e8c46f9e8f64b3c5e-0-9\" class=\"displacy-label\" startOffset=\"50%\" side=\"left\" fill=\"currentColor\" text-anchor=\"middle\">cc</textPath>\n",
              "    </text>\n",
              "    <path class=\"displacy-arrowhead\" d=\"M1790.0,441.5 L1798.0,429.5 1782.0,429.5\" fill=\"currentColor\"/>\n",
              "</g>\n",
              "\n",
              "<g class=\"displacy-arrow\">\n",
              "    <path class=\"displacy-arc\" id=\"arrow-7ffad2b3ddd04c9e8c46f9e8f64b3c5e-0-10\" stroke-width=\"2px\" d=\"M1995,439.5 C1995,264.5 2310.0,264.5 2310.0,439.5\" fill=\"none\" stroke=\"currentColor\"/>\n",
              "    <text dy=\"1.25em\" style=\"font-size: 0.8em; letter-spacing: 1px\">\n",
              "        <textPath xlink:href=\"#arrow-7ffad2b3ddd04c9e8c46f9e8f64b3c5e-0-10\" class=\"displacy-label\" startOffset=\"50%\" side=\"left\" fill=\"currentColor\" text-anchor=\"middle\">det</textPath>\n",
              "    </text>\n",
              "    <path class=\"displacy-arrowhead\" d=\"M1995,441.5 L1987,429.5 2003,429.5\" fill=\"currentColor\"/>\n",
              "</g>\n",
              "\n",
              "<g class=\"displacy-arrow\">\n",
              "    <path class=\"displacy-arc\" id=\"arrow-7ffad2b3ddd04c9e8c46f9e8f64b3c5e-0-11\" stroke-width=\"2px\" d=\"M2170,439.5 C2170,352.0 2305.0,352.0 2305.0,439.5\" fill=\"none\" stroke=\"currentColor\"/>\n",
              "    <text dy=\"1.25em\" style=\"font-size: 0.8em; letter-spacing: 1px\">\n",
              "        <textPath xlink:href=\"#arrow-7ffad2b3ddd04c9e8c46f9e8f64b3c5e-0-11\" class=\"displacy-label\" startOffset=\"50%\" side=\"left\" fill=\"currentColor\" text-anchor=\"middle\">compound</textPath>\n",
              "    </text>\n",
              "    <path class=\"displacy-arrowhead\" d=\"M2170,441.5 L2162,429.5 2178,429.5\" fill=\"currentColor\"/>\n",
              "</g>\n",
              "\n",
              "<g class=\"displacy-arrow\">\n",
              "    <path class=\"displacy-arc\" id=\"arrow-7ffad2b3ddd04c9e8c46f9e8f64b3c5e-0-12\" stroke-width=\"2px\" d=\"M1295,439.5 C1295,2.0 2325.0,2.0 2325.0,439.5\" fill=\"none\" stroke=\"currentColor\"/>\n",
              "    <text dy=\"1.25em\" style=\"font-size: 0.8em; letter-spacing: 1px\">\n",
              "        <textPath xlink:href=\"#arrow-7ffad2b3ddd04c9e8c46f9e8f64b3c5e-0-12\" class=\"displacy-label\" startOffset=\"50%\" side=\"left\" fill=\"currentColor\" text-anchor=\"middle\">conj</textPath>\n",
              "    </text>\n",
              "    <path class=\"displacy-arrowhead\" d=\"M2325.0,441.5 L2333.0,429.5 2317.0,429.5\" fill=\"currentColor\"/>\n",
              "</g>\n",
              "</svg></span>"
            ],
            "text/plain": [
              "<IPython.core.display.HTML object>"
            ]
          },
          "metadata": {},
          "output_type": "display_data"
        }
      ],
      "source": [
        "from spacy import displacy\n",
        "\n",
        "doc2 = nlp(\"London is the capital and most populous city of England and the United Kingdom\")\n",
        "displacy.render(doc2, jupyter=True, style=\"dep\")"
      ]
    },
    {
      "cell_type": "markdown",
      "metadata": {
        "id": "BhcKxFvisxNj"
      },
      "source": [
        "## Entities in text"
      ]
    },
    {
      "cell_type": "code",
      "execution_count": 6,
      "metadata": {
        "colab": {
          "base_uri": "https://localhost:8080/"
        },
        "id": "GoUNKXsSsxXy",
        "outputId": "522e7782-4aa7-45e1-ddcc-d1fdd9f6ff72"
      },
      "outputs": [
        {
          "name": "stdout",
          "output_type": "stream",
          "text": [
            "London GPE\n",
            "England GPE\n",
            "the United Kingdom GPE\n",
            "the south east LOC\n",
            "Great Britain GPE\n",
            "London GPE\n",
            "two millennia DATE\n",
            "Romans NORP\n",
            "Londinium ORG\n"
          ]
        }
      ],
      "source": [
        "for entity in doc.ents:\n",
        "  print(entity.text, entity.label_)"
      ]
    },
    {
      "cell_type": "code",
      "execution_count": 7,
      "metadata": {
        "colab": {
          "base_uri": "https://localhost:8080/",
          "height": 35
        },
        "id": "8o01ox8YylRj",
        "outputId": "ae38b8fb-6575-4009-96af-80fdb9ab0550"
      },
      "outputs": [
        {
          "data": {
            "text/plain": [
              "'Companies, agencies, institutions, etc.'"
            ]
          },
          "execution_count": 7,
          "metadata": {},
          "output_type": "execute_result"
        }
      ],
      "source": [
        "# Doubts with labels\n",
        "spacy.explain('ORG')"
      ]
    },
    {
      "cell_type": "code",
      "execution_count": 8,
      "metadata": {
        "colab": {
          "base_uri": "https://localhost:8080/",
          "height": 191
        },
        "id": "UwfOcDgCtEue",
        "outputId": "eadd1e47-cebe-453a-808a-35d2904aec5b"
      },
      "outputs": [
        {
          "data": {
            "text/html": [
              "<span class=\"tex2jax_ignore\"><div class=\"entities\" style=\"line-height: 2.5; direction: ltr\"></br>\n",
              "<mark class=\"entity\" style=\"background: #feca74; padding: 0.45em 0.6em; margin: 0 0.25em; line-height: 1; border-radius: 0.35em;\">\n",
              "    London\n",
              "    <span style=\"font-size: 0.8em; font-weight: bold; line-height: 1; border-radius: 0.35em; vertical-align: middle; margin-left: 0.5rem\">GPE</span>\n",
              "</mark>\n",
              " is the capital and most populous city of \n",
              "<mark class=\"entity\" style=\"background: #feca74; padding: 0.45em 0.6em; margin: 0 0.25em; line-height: 1; border-radius: 0.35em;\">\n",
              "    England\n",
              "    <span style=\"font-size: 0.8em; font-weight: bold; line-height: 1; border-radius: 0.35em; vertical-align: middle; margin-left: 0.5rem\">GPE</span>\n",
              "</mark>\n",
              " and </br>\n",
              "<mark class=\"entity\" style=\"background: #feca74; padding: 0.45em 0.6em; margin: 0 0.25em; line-height: 1; border-radius: 0.35em;\">\n",
              "    the United Kingdom\n",
              "    <span style=\"font-size: 0.8em; font-weight: bold; line-height: 1; border-radius: 0.35em; vertical-align: middle; margin-left: 0.5rem\">GPE</span>\n",
              "</mark>\n",
              ".  Standing on the River Thames in \n",
              "<mark class=\"entity\" style=\"background: #ff9561; padding: 0.45em 0.6em; margin: 0 0.25em; line-height: 1; border-radius: 0.35em;\">\n",
              "    the south east\n",
              "    <span style=\"font-size: 0.8em; font-weight: bold; line-height: 1; border-radius: 0.35em; vertical-align: middle; margin-left: 0.5rem\">LOC</span>\n",
              "</mark>\n",
              " </br>of the island of \n",
              "<mark class=\"entity\" style=\"background: #feca74; padding: 0.45em 0.6em; margin: 0 0.25em; line-height: 1; border-radius: 0.35em;\">\n",
              "    Great Britain\n",
              "    <span style=\"font-size: 0.8em; font-weight: bold; line-height: 1; border-radius: 0.35em; vertical-align: middle; margin-left: 0.5rem\">GPE</span>\n",
              "</mark>\n",
              ", \n",
              "<mark class=\"entity\" style=\"background: #feca74; padding: 0.45em 0.6em; margin: 0 0.25em; line-height: 1; border-radius: 0.35em;\">\n",
              "    London\n",
              "    <span style=\"font-size: 0.8em; font-weight: bold; line-height: 1; border-radius: 0.35em; vertical-align: middle; margin-left: 0.5rem\">GPE</span>\n",
              "</mark>\n",
              " has been a major settlement </br>for \n",
              "<mark class=\"entity\" style=\"background: #bfe1d9; padding: 0.45em 0.6em; margin: 0 0.25em; line-height: 1; border-radius: 0.35em;\">\n",
              "    two millennia\n",
              "    <span style=\"font-size: 0.8em; font-weight: bold; line-height: 1; border-radius: 0.35em; vertical-align: middle; margin-left: 0.5rem\">DATE</span>\n",
              "</mark>\n",
              ". It was founded by the \n",
              "<mark class=\"entity\" style=\"background: #c887fb; padding: 0.45em 0.6em; margin: 0 0.25em; line-height: 1; border-radius: 0.35em;\">\n",
              "    Romans\n",
              "    <span style=\"font-size: 0.8em; font-weight: bold; line-height: 1; border-radius: 0.35em; vertical-align: middle; margin-left: 0.5rem\">NORP</span>\n",
              "</mark>\n",
              ", who named it \n",
              "<mark class=\"entity\" style=\"background: #7aecec; padding: 0.45em 0.6em; margin: 0 0.25em; line-height: 1; border-radius: 0.35em;\">\n",
              "    Londinium\n",
              "    <span style=\"font-size: 0.8em; font-weight: bold; line-height: 1; border-radius: 0.35em; vertical-align: middle; margin-left: 0.5rem\">ORG</span>\n",
              "</mark>\n",
              ".</br></div></span>"
            ],
            "text/plain": [
              "<IPython.core.display.HTML object>"
            ]
          },
          "metadata": {},
          "output_type": "display_data"
        }
      ],
      "source": [
        "displacy.render(doc, style='ent', jupyter=True)"
      ]
    },
    {
      "cell_type": "markdown",
      "metadata": {
        "id": "k4J_qGHusl9H"
      },
      "source": [
        "## Replacing names\n",
        "Hide names for GDPR"
      ]
    },
    {
      "cell_type": "code",
      "execution_count": 10,
      "metadata": {
        "colab": {
          "base_uri": "https://localhost:8080/"
        },
        "id": "8zHtOLvSsmEp",
        "outputId": "99bd35f8-5eff-4622-f119-5b8bd6426e0f"
      },
      "outputs": [
        {
          "name": "stdout",
          "output_type": "stream",
          "text": [
            "\n",
            " In 1950 , [REDACTED]  published his famous article \" Computing Machinery and Intelligence \" . In 1957 , [REDACTED]  \n",
            " Syntactic Structures revolutionized Linguistics with ' universal grammar ' , a rule based system of syntactic structures . \n",
            "\n"
          ]
        }
      ],
      "source": [
        "# Replace a token with \"REDACTED\" if it is a name\n",
        "def replace_name_with_placeholder(token):\n",
        "    if token.ent_iob != 0 and token.ent_type_ == \"PERSON\":\n",
        "        return \"[REDACTED] \"\n",
        "    else:\n",
        "        return token.text\n",
        "\n",
        "# Loop through all the entities in a document and check if they are names\n",
        "def scrub(text):\n",
        "    doc = nlp(text)\n",
        "    with doc.retokenize() as retokenizer:\n",
        "        for ent in doc.ents:\n",
        "            retokenizer.merge(ent)\n",
        "    tokens = map(replace_name_with_placeholder, doc)\n",
        "    return \" \".join(tokens)\n",
        "\n",
        "s = \"\"\"\n",
        "In 1950, Alan Turing published his famous article \"Computing Machinery and Intelligence\". In 1957, Noam Chomsky’s \n",
        "Syntactic Structures revolutionized Linguistics with 'universal grammar', a rule based system of syntactic structures.\n",
        "\"\"\"\n",
        "\n",
        "print(scrub(s))"
      ]
    },
    {
      "cell_type": "markdown",
      "metadata": {
        "id": "oGvpaIAqzwOH"
      },
      "source": [
        "## Lematize"
      ]
    },
    {
      "cell_type": "code",
      "execution_count": 11,
      "metadata": {
        "colab": {
          "base_uri": "https://localhost:8080/"
        },
        "id": "iKra7djBzwXj",
        "outputId": "a1e019b7-3aad-40d1-e5b2-a4203c49f250"
      },
      "outputs": [
        {
          "name": "stdout",
          "output_type": "stream",
          "text": [
            "\n",
            " \n",
            " SPACE\n",
            "London London PROPN\n",
            "is be AUX\n",
            "the the DET\n",
            "capital capital NOUN\n",
            "and and CCONJ\n",
            "most most ADV\n",
            "populous populous ADJ\n",
            "city city NOUN\n",
            "of of ADP\n",
            "England England PROPN\n",
            "and and CCONJ\n",
            "\n",
            " \n",
            " SPACE\n",
            "the the DET\n",
            "United United PROPN\n",
            "Kingdom Kingdom PROPN\n",
            ". . PUNCT\n",
            "    SPACE\n",
            "Standing stand VERB\n",
            "on on ADP\n",
            "the the DET\n",
            "River River PROPN\n",
            "Thames Thames PROPN\n",
            "in in ADP\n",
            "the the DET\n",
            "south south PROPN\n",
            "east east NOUN\n",
            "\n",
            " \n",
            " SPACE\n",
            "of of ADP\n",
            "the the DET\n",
            "island island NOUN\n",
            "of of ADP\n",
            "Great Great PROPN\n",
            "Britain Britain PROPN\n",
            ", , PUNCT\n",
            "London London PROPN\n",
            "has have AUX\n",
            "been be AUX\n",
            "a a DET\n",
            "major major ADJ\n",
            "settlement settlement NOUN\n",
            "\n",
            " \n",
            " SPACE\n",
            "for for ADP\n",
            "two two NUM\n",
            "millennia millennium NOUN\n",
            ". . PUNCT\n",
            "It it PRON\n",
            "was be AUX\n",
            "founded found VERB\n",
            "by by ADP\n",
            "the the DET\n",
            "Romans Romans PROPN\n",
            ", , PUNCT\n",
            "who who PRON\n",
            "named name VERB\n",
            "it it PRON\n",
            "Londinium Londinium PROPN\n",
            ". . PUNCT\n",
            "\n",
            " \n",
            " SPACE\n"
          ]
        }
      ],
      "source": [
        "for w in doc:\n",
        "  print(w.text, w.lemma_, w.pos_)"
      ]
    },
    {
      "cell_type": "markdown",
      "metadata": {
        "id": "o_e1pnbgz_0X"
      },
      "source": [
        "## Stopwords"
      ]
    },
    {
      "cell_type": "code",
      "execution_count": 12,
      "metadata": {
        "colab": {
          "base_uri": "https://localhost:8080/"
        },
        "id": "j_M6OKU3z__q",
        "outputId": "701e21b9-d50e-4903-ca0e-c73746e56180"
      },
      "outputs": [
        {
          "name": "stdout",
          "output_type": "stream",
          "text": [
            "['well', \"'s\", 'below', 'already', 'almost', 'whoever', '‘d', 'along', 'regarding', 'more', 'quite', 'can', \"n't\", 'behind', 'go', 'fifty', 'until', 'give', 'others', 'someone', 'there', '’ve', 'another', 'up', 'else', 'nowhere', 'few', 'whole', 'whereas', 'had', 'other', 'never', 'also', 'ourselves', 'hereby', 'them', 'back', 'she', 'herself']\n"
          ]
        }
      ],
      "source": [
        "from spacy.lang.en.stop_words import STOP_WORDS\n",
        "\n",
        "print(list(STOP_WORDS)[:39])"
      ]
    },
    {
      "cell_type": "code",
      "execution_count": 13,
      "metadata": {
        "colab": {
          "base_uri": "https://localhost:8080/"
        },
        "id": "RXNvYLeD0QJ0",
        "outputId": "48725150-7661-4395-a27c-2a4782b52da4"
      },
      "outputs": [
        {
          "name": "stdout",
          "output_type": "stream",
          "text": [
            "[\n",
            ", London, capital, populous, city, England, \n",
            ", United, Kingdom,  , Standing, River, Thames, south, east, \n",
            ", island, Great, Britain, London, major, settlement, \n",
            ", millennia, founded, Romans, named, Londinium, \n",
            "]\n"
          ]
        }
      ],
      "source": [
        "lista_clean = [palabra for palabra in doc if not palabra.is_stop and not palabra.is_punct]\n",
        "print(lista_clean)"
      ]
    },
    {
      "cell_type": "markdown",
      "metadata": {
        "id": "5GwuAvRS1TLb"
      },
      "source": [
        "## Most frequent words\n",
        "In a Wikipedia page"
      ]
    },
    {
      "cell_type": "code",
      "execution_count": null,
      "metadata": {},
      "outputs": [],
      "source": [
        "# !pip install wikipedia"
      ]
    },
    {
      "cell_type": "code",
      "execution_count": 18,
      "metadata": {
        "colab": {
          "base_uri": "https://localhost:8080/",
          "height": 174
        },
        "id": "zmuqxci01TTh",
        "outputId": "8f5d5796-9ab8-4b8b-d89c-2c6f17e89442"
      },
      "outputs": [
        {
          "data": {
            "text/plain": [
              "'Donald John Trump (pronunciación en inglés: /ˈdɒnəld d͡ʒɒn trʌmp/ ( escuchar); Nueva York, 14 de junio de 1946) es un empresario, director ejecutivo, inversor en bienes inmuebles, personalidad televisiva y político estadounidense que ejerció como el 45.º presidente de los Estados Unidos de América desde el 20 de enero de 2017 hasta el 20 de enero de 2021.[2]\\u200b\\nNacido y criado en un barrio del distrito neoyorquino de Queens llamado «Jamaica», Trump obtuvo el título de bachiller en economía en la Wharton School de la Universidad de Pensilvania en 1968. En 1971, se hizo cargo de la empresa familiar de bienes inmuebles y construcción Elizabeth Trump & Son, que más tarde sería renombrada como Trump Organization.[3]\\u200b[4]\\u200b Durante su carrera empresarial, Trump construyó, renovó y gestionó numerosas torres de oficinas, hoteles, casinos y campos de golf. Fue accionista principal de los concursos de belleza Miss USA y Miss Universo desde 1996 hasta 2015, y prestó el uso de su nombre en la marca de'"
            ]
          },
          "execution_count": 18,
          "metadata": {},
          "output_type": "execute_result"
        }
      ],
      "source": [
        "import wikipedia\n",
        "# wikipedia.set_lang('es')\n",
        "donald = wikipedia.page(\"Donald Trump\")\n",
        "text = donald.content\n",
        "text[:1000]"
      ]
    },
    {
      "cell_type": "code",
      "execution_count": 15,
      "metadata": {
        "colab": {
          "base_uri": "https://localhost:8080/"
        },
        "id": "w8s0R3vU3NAZ",
        "outputId": "3c71df2d-5abe-488f-fb50-fbe8b242e97a"
      },
      "outputs": [
        {
          "data": {
            "text/plain": [
              "['politician',\n",
              " 'media',\n",
              " 'personality',\n",
              " 'businessman',\n",
              " 'president',\n",
              " 'bachelor',\n",
              " 'degree',\n",
              " 'president',\n",
              " 'father',\n",
              " 'estate']"
            ]
          },
          "execution_count": 15,
          "metadata": {},
          "output_type": "execute_result"
        }
      ],
      "source": [
        "nombres = [w.text for w in nlp(text) if not w.is_stop and not w.is_punct and w.pos_ == 'NOUN']\n",
        "nombres[:10]"
      ]
    },
    {
      "cell_type": "code",
      "execution_count": 16,
      "metadata": {
        "colab": {
          "base_uri": "https://localhost:8080/"
        },
        "id": "C0D-pRly22_H",
        "outputId": "5bc9c178-6438-40ac-b2a6-ece714865a69"
      },
      "outputs": [
        {
          "data": {
            "text/plain": [
              "[('campaign', 56),\n",
              " ('administration', 41),\n",
              " ('president', 34),\n",
              " ('government', 33),\n",
              " ('percent', 26),\n",
              " ('office', 25),\n",
              " ('officials', 24),\n",
              " ('year', 23),\n",
              " ('tax', 22)]"
            ]
          },
          "execution_count": 16,
          "metadata": {},
          "output_type": "execute_result"
        }
      ],
      "source": [
        "from collections import Counter\n",
        "word_freq = Counter(nombres)\n",
        "\n",
        "word_freq.most_common(10)[1:]"
      ]
    },
    {
      "cell_type": "markdown",
      "metadata": {
        "id": "xWDuikM7VJtc"
      },
      "source": [
        "## Textacy London text\n",
        "No we want to know things about London, from our previous text"
      ]
    },
    {
      "cell_type": "code",
      "execution_count": 21,
      "metadata": {
        "colab": {
          "base_uri": "https://localhost:8080/"
        },
        "id": "qOiN7HAmvNV2",
        "outputId": "cc8d904b-3cc0-4588-f6d5-95ce6ad6fe7a"
      },
      "outputs": [
        {
          "ename": "ModuleNotFoundError",
          "evalue": "No module named 'textacy'",
          "output_type": "error",
          "traceback": [
            "\u001b[1;31m---------------------------------------------------------------------------\u001b[0m",
            "\u001b[1;31mModuleNotFoundError\u001b[0m                       Traceback (most recent call last)",
            "\u001b[1;32m~\\AppData\\Local\\Temp/ipykernel_19336/933530464.py\u001b[0m in \u001b[0;36m<module>\u001b[1;34m\u001b[0m\n\u001b[0;32m      1\u001b[0m \u001b[1;32mimport\u001b[0m \u001b[0mspacy\u001b[0m\u001b[1;33m\u001b[0m\u001b[1;33m\u001b[0m\u001b[0m\n\u001b[1;32m----> 2\u001b[1;33m \u001b[1;32mimport\u001b[0m \u001b[0mtextacy\u001b[0m\u001b[1;33m.\u001b[0m\u001b[0mextract\u001b[0m\u001b[1;33m\u001b[0m\u001b[1;33m\u001b[0m\u001b[0m\n\u001b[0m\u001b[0;32m      3\u001b[0m \u001b[1;33m\u001b[0m\u001b[0m\n\u001b[0;32m      4\u001b[0m \u001b[1;31m#### CODE ####\u001b[0m\u001b[1;33m\u001b[0m\u001b[1;33m\u001b[0m\u001b[1;33m\u001b[0m\u001b[0m\n\u001b[0;32m      5\u001b[0m \u001b[1;33m\u001b[0m\u001b[0m\n",
            "\u001b[1;31mModuleNotFoundError\u001b[0m: No module named 'textacy'"
          ]
        }
      ],
      "source": [
        "import spacy\n",
        "import textacy.extract\n",
        "\n",
        "#### CODE ####\n",
        "\n",
        "# The text we want to examine\n",
        "text = \"\"\"London is the capital and most populous city of England and the United Kingdom. Standing on the River Thames in the south east of the island of Great Britain, London has been a major settlement for two millennia. It was founded by the Romans, \n",
        "who named it Londinium. London is a huge city.\n",
        "\"\"\"\n",
        "\n",
        "doc = nlp(text)\n",
        "statements = textacy.extract.semistructured_statements(doc, entity=\"London\", cue='be')\n",
        "\n",
        "# Print the results\n",
        "print(\"Here are the things I know about London:\")\n",
        "\n",
        "for statement in statements:\n",
        "    subject, verb, fact = statement\n",
        "    print(f\" - {fact}\")\n"
      ]
    },
    {
      "cell_type": "markdown",
      "metadata": {
        "id": "hFwnqZzIaSNQ"
      },
      "source": [
        "## Textacy with Wikipedia API\n",
        "We don't want the most frequent words, we want sentences about London"
      ]
    },
    {
      "cell_type": "code",
      "execution_count": 54,
      "metadata": {
        "id": "za6v7SL_2Ywo"
      },
      "outputs": [],
      "source": [
        "london = wikipedia.page(\"London\")\n",
        "text = london.content"
      ]
    },
    {
      "cell_type": "code",
      "execution_count": 55,
      "metadata": {
        "colab": {
          "base_uri": "https://localhost:8080/"
        },
        "id": "NwOqJO902pO6",
        "outputId": "9d856c03-1993-4c18-976a-39a58d7680a3"
      },
      "outputs": [
        {
          "name": "stdout",
          "output_type": "stream",
          "text": [
            "Here are the things I know about London:\n",
            " - [the, capital, and, largest, city, of, England, and, the, United, Kingdom]\n",
            " - [an, ancient, name, ,, already, attested, in, the, first, century, AD, ,, usually, in, the, Latinised, form, Londinium]\n",
            " - [the, largest, town, in, England]\n",
            " - [the, focus, of, the, Peasants, ', Revolt, in, 1381.London]\n",
            " - [the, world, 's, largest, city]\n",
            " - [the, seat, of, the, Government, of, the, United, Kingdom]\n",
            " - [one, of, nine, regions, of, England, and, the, top, subdivision, covering, most, of, the, city, 's, metropolis]\n",
            " - [one, of, the, World, 's, Greenest, Cities, \", with, more, than, 40, per, cent, green, space, or, open, water]\n",
            " - [the, second, most, populous, metropolitan, area, in, Europe]\n",
            " - [the, 19th, largest, city, and, the, 18th, largest, metropolitan, region]\n",
            " - [the, world, 's, most, expensive, office, market]\n",
            " - [one, of, the, pre, -, eminent, financial, centres, of, the, world, as, the, most, important, location, for, international, finance]\n",
            " - [a, major, retail, centre]\n",
            " - [one, of, the, leading, tourist, destinations, in, the, world]\n",
            " - [the, world, top, city, destination]\n",
            " - [a, major, international, air, transport, hub, with, the, busiest, city, airspace, in, the, world]\n",
            " - [the, centre, of, the, National, Rail, network]\n",
            " - [a, major, global, centre, of, higher, education, teaching, and, research]\n",
            " - [home, to, five, major, medical, schools, –, Barts, and, The, London, School, of, Medicine, and, Dentistry, (, part, of, Queen, Mary, )]\n",
            " - [home, to, designers, Vivienne, Westwood, ,, Galliano, ,, Stella, McCartney, ,, Manolo, Blahnik, ,, and, Jimmy, Choo, ,, among, others, ;]\n",
            " - [the, setting, for, many, works, of, literature]\n",
            " - [the, setting, for, films, including, Oliver, Twist, (, 1948, ), ,, Scrooge, (, 1951, )]\n",
            " - [a, major, centre, for, television, production]\n",
            " - [home, to, many, museums, ,, galleries, ,, and, other, institutions, ,, many, of, which, are, free, of, admission, charges, and, are, major, tourist, attractions, as, well, as, playing, a, research, role]\n",
            " - [one, of, the, major, classical, and, popular, music, capitals, of, the, world]\n",
            " - [a, centre, for, urban, music]\n",
            " - [the, \", greenest, city, \", in, Europe, with, 35,000, acres, of, public, parks, ,, woodlands, and, gardens]\n"
          ]
        }
      ],
      "source": [
        "doc = nlp(text)\n",
        "\n",
        "# Extract semi-structured statements\n",
        "statements = textacy.extract.semistructured_statements(doc, entity=\"London\", cue='be')\n",
        "\n",
        "# Print the results\n",
        "print(\"Here are the things I know about London:\")\n",
        "\n",
        "for statement in statements:\n",
        "    subject, verb, fact = statement\n",
        "    print(f\" - {fact}\")"
      ]
    },
    {
      "cell_type": "markdown",
      "metadata": {
        "id": "_3oBFA3XacUf"
      },
      "source": [
        "# Spanish\n",
        "## Spacy  and entities"
      ]
    },
    {
      "cell_type": "code",
      "execution_count": 23,
      "metadata": {
        "colab": {
          "base_uri": "https://localhost:8080/"
        },
        "id": "WyDUzV-eax_7",
        "outputId": "e4575ab9-ce92-4d3c-a20d-a4b297eab994"
      },
      "outputs": [
        {
          "name": "stdout",
          "output_type": "stream",
          "text": [
            "Londres (LOC)\n",
            "London (LOC)\n",
            "Inglaterra (LOC)\n",
            "Reino Unido.2​3​ (LOC)\n",
            "río Támesis (LOC)\n",
            "Londres (LOC)\n",
            "Londinium (LOC)\n",
            "City de Londres (LOC)\n",
            "Londres (LOC)\n",
            "Londres (LOC)\n",
            "Gran Londres,6​ (LOC)\n",
            "Londres.7​\n",
            "Londres (ORG)\n",
            "mundo9​10​11​ (LOC)\n",
            "Londres (LOC)\n",
            "Londres (LOC)\n",
            "Juegos Olímpicos (MISC)\n",
            "La Autoridad del Gran Londres (MISC)\n",
            "Reino (LOC)\n",
            "Gran Londres (LOC)\n",
            "Europa (LOC)\n",
            "Londres (LOC)\n",
            "Imperio británico (LOC)\n"
          ]
        }
      ],
      "source": [
        "nlp_es = spacy.load('es_core_news_lg')\n",
        "\n",
        "text = '''Londres (en inglés, London, pronunciado /ˈlʌndən/ ( escuchar)) es la capital y mayor ciudad de Inglaterra y del Reino Unido.2​3​ Situada a orillas del río Támesis, Londres es un importante asentamiento humano desde que fue fundada por los romanos con el nombre de Londinium hace casi dos milenios.4​ El núcleo antiguo de la urbe, la City de Londres, conserva básicamente su perímetro medieval de una milla cuadrada. Desde el siglo XIX el nombre «Londres» también hace referencia a toda la metrópolis desarrollada alrededor de este núcleo.5​ El grueso de esta conurbación forma la región de Londres y el área administrativa del Gran Londres,6​ gobernado por el alcalde y la asamblea de Londres.7​\n",
        "Londres es una ciudad global, uno de los centros neurálgicos en el ámbito de las artes, el comercio, la educación, el entretenimiento, la moda, las finanzas, los medios de comunicación, la investigación, el turismo o el transporte.8​ Es el principal centro financiero del mundo9​10​11​ y una de las áreas metropolitanas con mayor PIB.12​13​ Londres es también una capital cultural mundial,14​15​16​17​ la ciudad más visitada considerando el número de visitas internacionales18​ y tiene el mayor sistema aeroportuario del mundo según el tráfico de pasajeros.19​ Asimismo, las 43 universidades de la ciudad conforman la mayor concentración de centros de estudios superiores de toda Europa.20​ En el año 2012 Londres se convirtió en la única ciudad en albergar la celebración de tres Juegos Olímpicos de Verano.21​\n",
        "En esta ciudad multirracial convive gente de un gran número de culturas que hablan más de trescientos idiomas distintos.22​ La Autoridad del Gran Londres estima que en 2015 la ciudad tiene 8,63 millones de habitantes,23​ que supone el 12,5 % del total de habitantes del Reino Unido.24​ El área urbana del Gran Londres, con 10 470 00025​ habitantes, es la segunda más grande de Europa, pero su área metropolitana, con una población estimada de entre 12 y 14 millones,26​27​ es la mayor del continente. Desde 1831 a 1925 Londres, como capital del Imperio británico, fue la ciudad más poblada del mundo.'''\n",
        "doc = nlp_es(text)\n",
        "\n",
        "# Para ver las entidades que ha detectado\n",
        "for entity in doc.ents:\n",
        "    print(f\"{entity.text} ({entity.label_})\")\n"
      ]
    },
    {
      "cell_type": "code",
      "execution_count": null,
      "metadata": {},
      "outputs": [],
      "source": []
    }
  ],
  "metadata": {
    "colab": {
      "collapsed_sections": [],
      "name": "Textacy_y_spacy.ipynb",
      "provenance": []
    },
    "kernelspec": {
      "display_name": "Python 3",
      "language": "python",
      "name": "python3"
    },
    "language_info": {
      "codemirror_mode": {
        "name": "ipython",
        "version": 3
      },
      "file_extension": ".py",
      "mimetype": "text/x-python",
      "name": "python",
      "nbconvert_exporter": "python",
      "pygments_lexer": "ipython3",
      "version": "3.7.4"
    }
  },
  "nbformat": 4,
  "nbformat_minor": 0
}
