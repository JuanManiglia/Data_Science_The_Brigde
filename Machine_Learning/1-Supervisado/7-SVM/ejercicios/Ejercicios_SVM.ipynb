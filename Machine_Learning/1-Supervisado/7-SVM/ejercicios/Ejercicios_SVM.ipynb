{
 "cells": [
  {
   "cell_type": "markdown",
   "metadata": {
    "id": "783FA049nkYX"
   },
   "source": [
    "# Support Vector Machines - Exercise 1"
   ]
  },
  {
   "cell_type": "markdown",
   "metadata": {
    "id": "ki49rbd2nkYZ"
   },
   "source": [
    "In this exercise, we'll be using support vector machines (SVMs) to build a spam classifier.  We'll start with SVMs on some simple 2D data sets to see how they work.  Then we'll do some pre-processing work on a set of raw emails and build a classifier on the processed emails using a SVM to determine if they are spam or not."
   ]
  },
  {
   "cell_type": "markdown",
   "metadata": {
    "id": "0doqgOa9nkYZ"
   },
   "source": [
    "The first thing we're going to do is look at a simple 2-dimensional data set and see how a linear SVM works on the data set for varying values of C (similar to the regularization term in linear/logistic regression).  Let's load the data.\n",
    "## Exercise 1\n",
    "#### 1. Load libraries"
   ]
  },
  {
   "cell_type": "code",
   "execution_count": 2,
   "metadata": {},
   "outputs": [],
   "source": [
    "import numpy as np\n",
    "import pandas as pd\n",
    "import matplotlib.pyplot as plt\n",
    "from scipy.io import loadmat\n",
    "import seaborn as sns\n",
    "%matplotlib inline"
   ]
  },
  {
   "cell_type": "markdown",
   "metadata": {},
   "source": [
    "#### 2. Load data\n",
    "Load the file *ejer_1_data1.mat*. Find the way for loading this kind of file."
   ]
  },
  {
   "cell_type": "code",
   "execution_count": 3,
   "metadata": {},
   "outputs": [
    {
     "data": {
      "text/plain": [
       "{'__header__': b'MATLAB 5.0 MAT-file, Platform: GLNXA64, Created on: Sun Nov 13 14:28:43 2011',\n",
       " '__version__': '1.0',\n",
       " '__globals__': [],\n",
       " 'X': array([[1.9643  , 4.5957  ],\n",
       "        [2.2753  , 3.8589  ],\n",
       "        [2.9781  , 4.5651  ],\n",
       "        [2.932   , 3.5519  ],\n",
       "        [3.5772  , 2.856   ],\n",
       "        [4.015   , 3.1937  ],\n",
       "        [3.3814  , 3.4291  ],\n",
       "        [3.9113  , 4.1761  ],\n",
       "        [2.7822  , 4.0431  ],\n",
       "        [2.5518  , 4.6162  ],\n",
       "        [3.3698  , 3.9101  ],\n",
       "        [3.1048  , 3.0709  ],\n",
       "        [1.9182  , 4.0534  ],\n",
       "        [2.2638  , 4.3706  ],\n",
       "        [2.6555  , 3.5008  ],\n",
       "        [3.1855  , 4.2888  ],\n",
       "        [3.6579  , 3.8692  ],\n",
       "        [3.9113  , 3.4291  ],\n",
       "        [3.6002  , 3.1221  ],\n",
       "        [3.0357  , 3.3165  ],\n",
       "        [1.5841  , 3.3575  ],\n",
       "        [2.0103  , 3.2039  ],\n",
       "        [1.9527  , 2.7843  ],\n",
       "        [2.2753  , 2.7127  ],\n",
       "        [2.3099  , 2.9584  ],\n",
       "        [2.8283  , 2.6309  ],\n",
       "        [3.0473  , 2.2931  ],\n",
       "        [2.4827  , 2.0373  ],\n",
       "        [2.5057  , 2.3853  ],\n",
       "        [1.8721  , 2.0577  ],\n",
       "        [2.0103  , 2.3546  ],\n",
       "        [1.2269  , 2.3239  ],\n",
       "        [1.8951  , 2.9174  ],\n",
       "        [1.561   , 3.0709  ],\n",
       "        [1.5495  , 2.6923  ],\n",
       "        [1.6878  , 2.4057  ],\n",
       "        [1.4919  , 2.0271  ],\n",
       "        [0.962   , 2.682   ],\n",
       "        [1.1693  , 2.9276  ],\n",
       "        [0.8122  , 2.9992  ],\n",
       "        [0.9735  , 3.3881  ],\n",
       "        [1.25    , 3.1937  ],\n",
       "        [1.3191  , 3.5109  ],\n",
       "        [2.2292  , 2.201   ],\n",
       "        [2.4482  , 2.6411  ],\n",
       "        [2.7938  , 1.9656  ],\n",
       "        [2.091   , 1.6177  ],\n",
       "        [2.5403  , 2.8867  ],\n",
       "        [0.9044  , 3.0198  ],\n",
       "        [0.76615 , 2.5899  ],\n",
       "        [0.086405, 4.1045  ]]),\n",
       " 'y': array([[1],\n",
       "        [1],\n",
       "        [1],\n",
       "        [1],\n",
       "        [1],\n",
       "        [1],\n",
       "        [1],\n",
       "        [1],\n",
       "        [1],\n",
       "        [1],\n",
       "        [1],\n",
       "        [1],\n",
       "        [1],\n",
       "        [1],\n",
       "        [1],\n",
       "        [1],\n",
       "        [1],\n",
       "        [1],\n",
       "        [1],\n",
       "        [1],\n",
       "        [0],\n",
       "        [0],\n",
       "        [0],\n",
       "        [0],\n",
       "        [0],\n",
       "        [0],\n",
       "        [0],\n",
       "        [0],\n",
       "        [0],\n",
       "        [0],\n",
       "        [0],\n",
       "        [0],\n",
       "        [0],\n",
       "        [0],\n",
       "        [0],\n",
       "        [0],\n",
       "        [0],\n",
       "        [0],\n",
       "        [0],\n",
       "        [0],\n",
       "        [0],\n",
       "        [0],\n",
       "        [0],\n",
       "        [0],\n",
       "        [0],\n",
       "        [0],\n",
       "        [0],\n",
       "        [0],\n",
       "        [0],\n",
       "        [0],\n",
       "        [1]], dtype=uint8)}"
      ]
     },
     "execution_count": 3,
     "metadata": {},
     "output_type": "execute_result"
    }
   ],
   "source": [
    "raw_data = loadmat('data/ejer_1_data1.mat')\n",
    "raw_data"
   ]
  },
  {
   "cell_type": "code",
   "execution_count": 4,
   "metadata": {},
   "outputs": [
    {
     "data": {
      "text/plain": [
       "dict_keys(['__header__', '__version__', '__globals__', 'X', 'y'])"
      ]
     },
     "execution_count": 4,
     "metadata": {},
     "output_type": "execute_result"
    }
   ],
   "source": [
    "raw_data.keys()"
   ]
  },
  {
   "cell_type": "markdown",
   "metadata": {},
   "source": [
    "#### 3. Create a DataFrame with the features and target"
   ]
  },
  {
   "cell_type": "code",
   "execution_count": 5,
   "metadata": {},
   "outputs": [
    {
     "data": {
      "text/html": [
       "<div>\n",
       "<style scoped>\n",
       "    .dataframe tbody tr th:only-of-type {\n",
       "        vertical-align: middle;\n",
       "    }\n",
       "\n",
       "    .dataframe tbody tr th {\n",
       "        vertical-align: top;\n",
       "    }\n",
       "\n",
       "    .dataframe thead th {\n",
       "        text-align: right;\n",
       "    }\n",
       "</style>\n",
       "<table border=\"1\" class=\"dataframe\">\n",
       "  <thead>\n",
       "    <tr style=\"text-align: right;\">\n",
       "      <th></th>\n",
       "      <th>X1</th>\n",
       "      <th>X2</th>\n",
       "      <th>y</th>\n",
       "    </tr>\n",
       "  </thead>\n",
       "  <tbody>\n",
       "    <tr>\n",
       "      <th>0</th>\n",
       "      <td>1.9643</td>\n",
       "      <td>4.5957</td>\n",
       "      <td>1</td>\n",
       "    </tr>\n",
       "    <tr>\n",
       "      <th>1</th>\n",
       "      <td>2.2753</td>\n",
       "      <td>3.8589</td>\n",
       "      <td>1</td>\n",
       "    </tr>\n",
       "    <tr>\n",
       "      <th>2</th>\n",
       "      <td>2.9781</td>\n",
       "      <td>4.5651</td>\n",
       "      <td>1</td>\n",
       "    </tr>\n",
       "    <tr>\n",
       "      <th>3</th>\n",
       "      <td>2.9320</td>\n",
       "      <td>3.5519</td>\n",
       "      <td>1</td>\n",
       "    </tr>\n",
       "    <tr>\n",
       "      <th>4</th>\n",
       "      <td>3.5772</td>\n",
       "      <td>2.8560</td>\n",
       "      <td>1</td>\n",
       "    </tr>\n",
       "  </tbody>\n",
       "</table>\n",
       "</div>"
      ],
      "text/plain": [
       "       X1      X2  y\n",
       "0  1.9643  4.5957  1\n",
       "1  2.2753  3.8589  1\n",
       "2  2.9781  4.5651  1\n",
       "3  2.9320  3.5519  1\n",
       "4  3.5772  2.8560  1"
      ]
     },
     "execution_count": 5,
     "metadata": {},
     "output_type": "execute_result"
    }
   ],
   "source": [
    "data = pd.DataFrame(raw_data['X'], columns = ['X1', 'X2'])\n",
    "data['y'] = raw_data['y']\n",
    "data.head()"
   ]
  },
  {
   "cell_type": "code",
   "execution_count": 10,
   "metadata": {},
   "outputs": [
    {
     "name": "stdout",
     "output_type": "stream",
     "text": [
      "<class 'pandas.core.frame.DataFrame'>\n",
      "RangeIndex: 51 entries, 0 to 50\n",
      "Data columns (total 3 columns):\n",
      " #   Column  Non-Null Count  Dtype  \n",
      "---  ------  --------------  -----  \n",
      " 0   X1      51 non-null     float64\n",
      " 1   X2      51 non-null     float64\n",
      " 2   y       51 non-null     uint8  \n",
      "dtypes: float64(2), uint8(1)\n",
      "memory usage: 995.0 bytes\n"
     ]
    }
   ],
   "source": [
    "data.info()"
   ]
  },
  {
   "cell_type": "code",
   "execution_count": 9,
   "metadata": {},
   "outputs": [
    {
     "data": {
      "text/html": [
       "<div>\n",
       "<style scoped>\n",
       "    .dataframe tbody tr th:only-of-type {\n",
       "        vertical-align: middle;\n",
       "    }\n",
       "\n",
       "    .dataframe tbody tr th {\n",
       "        vertical-align: top;\n",
       "    }\n",
       "\n",
       "    .dataframe thead th {\n",
       "        text-align: right;\n",
       "    }\n",
       "</style>\n",
       "<table border=\"1\" class=\"dataframe\">\n",
       "  <thead>\n",
       "    <tr style=\"text-align: right;\">\n",
       "      <th></th>\n",
       "      <th>X1</th>\n",
       "      <th>X2</th>\n",
       "      <th>y</th>\n",
       "    </tr>\n",
       "  </thead>\n",
       "  <tbody>\n",
       "    <tr>\n",
       "      <th>count</th>\n",
       "      <td>51.000000</td>\n",
       "      <td>51.000000</td>\n",
       "      <td>51.000000</td>\n",
       "    </tr>\n",
       "    <tr>\n",
       "      <th>mean</th>\n",
       "      <td>2.268780</td>\n",
       "      <td>3.132512</td>\n",
       "      <td>0.411765</td>\n",
       "    </tr>\n",
       "    <tr>\n",
       "      <th>std</th>\n",
       "      <td>0.928531</td>\n",
       "      <td>0.753256</td>\n",
       "      <td>0.497050</td>\n",
       "    </tr>\n",
       "    <tr>\n",
       "      <th>min</th>\n",
       "      <td>0.086405</td>\n",
       "      <td>1.617700</td>\n",
       "      <td>0.000000</td>\n",
       "    </tr>\n",
       "    <tr>\n",
       "      <th>25%</th>\n",
       "      <td>1.572550</td>\n",
       "      <td>2.636000</td>\n",
       "      <td>0.000000</td>\n",
       "    </tr>\n",
       "    <tr>\n",
       "      <th>50%</th>\n",
       "      <td>2.275300</td>\n",
       "      <td>3.070900</td>\n",
       "      <td>0.000000</td>\n",
       "    </tr>\n",
       "    <tr>\n",
       "      <th>75%</th>\n",
       "      <td>2.955050</td>\n",
       "      <td>3.531400</td>\n",
       "      <td>1.000000</td>\n",
       "    </tr>\n",
       "    <tr>\n",
       "      <th>max</th>\n",
       "      <td>4.015000</td>\n",
       "      <td>4.616200</td>\n",
       "      <td>1.000000</td>\n",
       "    </tr>\n",
       "  </tbody>\n",
       "</table>\n",
       "</div>"
      ],
      "text/plain": [
       "              X1         X2          y\n",
       "count  51.000000  51.000000  51.000000\n",
       "mean    2.268780   3.132512   0.411765\n",
       "std     0.928531   0.753256   0.497050\n",
       "min     0.086405   1.617700   0.000000\n",
       "25%     1.572550   2.636000   0.000000\n",
       "50%     2.275300   3.070900   0.000000\n",
       "75%     2.955050   3.531400   1.000000\n",
       "max     4.015000   4.616200   1.000000"
      ]
     },
     "execution_count": 9,
     "metadata": {},
     "output_type": "execute_result"
    }
   ],
   "source": [
    "data.describe()"
   ]
  },
  {
   "cell_type": "markdown",
   "metadata": {},
   "source": [
    "#### 4. Plot a scatterplot with the data"
   ]
  },
  {
   "cell_type": "code",
   "execution_count": 14,
   "metadata": {},
   "outputs": [
    {
     "data": {
      "text/plain": [
       "<AxesSubplot:xlabel='X1', ylabel='X2'>"
      ]
     },
     "execution_count": 14,
     "metadata": {},
     "output_type": "execute_result"
    },
    {
     "data": {
      "image/png": "[encoded data removed]",
      "text/plain": [
       "<Figure size 432x288 with 1 Axes>"
      ]
     },
     "metadata": {
      "needs_background": "light"
     },
     "output_type": "display_data"
    }
   ],
   "source": [
    "sns.scatterplot(data= data, x=\"X1\", y=\"X2\", hue=\"y\")"
   ]
  },
  {
   "cell_type": "markdown",
   "metadata": {
    "id": "IXSH26wgnkYj"
   },
   "source": [
    "Notice that there is one outlier positive example that sits apart from the others.  The classes are still linearly separable but it's a very tight fit.  We're going to train a linear support vector machine to learn the class boundary.\n",
    "\n",
    "#### 5. LinearSVC\n",
    "Declare a Linear SVC with the hyperparamenters:\n",
    "\n",
    "```Python\n",
    "LinearSVC(C=1, loss='hinge', max_iter=10000)\n",
    "```"
   ]
  },
  {
   "cell_type": "code",
   "execution_count": 15,
   "metadata": {
    "id": "t2--LYi4nkYj",
    "outputId": "d54f4cbd-ad01-4af2-f647-91e0717298c0"
   },
   "outputs": [],
   "source": [
    "from sklearn import svm\n",
    "\n",
    "svc = svm.LinearSVC(C=1, loss='hinge', max_iter=10000)"
   ]
  },
  {
   "cell_type": "markdown",
   "metadata": {
    "id": "E3AVSx6DnkYn"
   },
   "source": [
    "#### 6. Try the performance (score)\n",
    "For the first experiment we'll use C=1 and see how it performs."
   ]
  },
  {
   "cell_type": "code",
   "execution_count": 28,
   "metadata": {},
   "outputs": [],
   "source": [
    "X = data[['X1','X2']]\n",
    "y = data['y']\n",
    "# svc.fit(X, y)\n",
    "# svc.fit(data[['X1','X2']],data['y'])"
   ]
  },
  {
   "cell_type": "code",
   "execution_count": 17,
   "metadata": {
    "id": "SQDBok7unkYn",
    "outputId": "3608331e-6b2b-4dc8-aad8-783cc69d9278"
   },
   "outputs": [
    {
     "data": {
      "text/plain": [
       "0.9803921568627451"
      ]
     },
     "execution_count": 17,
     "metadata": {},
     "output_type": "execute_result"
    }
   ],
   "source": [
    "svc.score(data[['X1', 'X2']], data['y'])"
   ]
  },
  {
   "cell_type": "markdown",
   "metadata": {
    "id": "F1-d95TbnkYq"
   },
   "source": [
    "It appears that it mis-classified the outlier.\n",
    "\n",
    "#### 7. Increase the value of C until you get a perfect classifier"
   ]
  },
  {
   "cell_type": "code",
   "execution_count": 37,
   "metadata": {
    "id": "mQ-6OAJwnkYq",
    "outputId": "6ad81a68-b9b3-4960-8604-b532e1f5726e"
   },
   "outputs": [
    {
     "name": "stderr",
     "output_type": "stream",
     "text": [
      "C:\\Users\\Miguel Angel\\AppData\\Local\\Programs\\Python\\Python37\\lib\\site-packages\\sklearn\\svm\\_base.py:1201: ConvergenceWarning: Liblinear failed to converge, increase the number of iterations.\n",
      "  ConvergenceWarning,\n"
     ]
    },
    {
     "data": {
      "text/plain": [
       "1.0"
      ]
     },
     "execution_count": 37,
     "metadata": {},
     "output_type": "execute_result"
    }
   ],
   "source": [
    "svc2 = svm.LinearSVC(C=350, loss='hinge', max_iter=10000)\n",
    "svc2.fit(data[['X1','X2']],data['y'])\n",
    "svc2.score(data[['X1', 'X2']], data['y'])"
   ]
  },
  {
   "cell_type": "markdown",
   "metadata": {
    "id": "JNHkUq0MnkYt"
   },
   "source": [
    "This time we got a perfect classification of the training data, however by increasing the value of C we've created a decision boundary that is no longer a natural fit for the data.  We can visualize this by looking at the confidence level for each class prediction, which is a function of the point's distance from the hyperplane.\n",
    "\n",
    "#### 8. Plot Decission Function\n",
    "Get the `decision_function()` output for the first model. Plot a scatterplot with X1, X2 and a range of colors based on `decision_function()`"
   ]
  },
  {
   "cell_type": "code",
   "execution_count": 29,
   "metadata": {},
   "outputs": [],
   "source": [
    "conf_level = svc.decision_function(X)"
   ]
  },
  {
   "cell_type": "code",
   "execution_count": 36,
   "metadata": {},
   "outputs": [
    {
     "data": {
      "text/plain": [
       "array([ 0.80276541,  0.3838422 ,  1.3774072 ,  0.52108945,  0.33331764,\n",
       "        0.86860621,  0.68643645,  1.61111265,  0.83440355,  1.16705587,\n",
       "        1.07315211,  0.22972638,  0.33176061,  0.79573721,  0.31572247,\n",
       "        1.27400598,  1.21010189,  0.99988144,  0.56465831,  0.38981423,\n",
       "       -0.43528404, -0.30886227, -0.6862705 , -0.55403359, -0.33252357,\n",
       "       -0.29385723, -0.44071911, -0.98399757, -0.68564239, -1.32848574,\n",
       "       -1.00380024, -1.49231506, -0.61143309, -0.68345794, -1.00004906,\n",
       "       -1.15275208, -1.57841898, -1.35599339, -1.03241018, -1.18505443,\n",
       "       -0.77142608, -0.76693896, -0.46651687, -1.        , -0.51034681,\n",
       "       -0.85864493, -1.5590317 , -0.25490638, -1.11366063, -1.54720268,\n",
       "       -0.70996525])"
      ]
     },
     "execution_count": 36,
     "metadata": {},
     "output_type": "execute_result"
    }
   ],
   "source": [
    "conf_level"
   ]
  },
  {
   "cell_type": "code",
   "execution_count": 35,
   "metadata": {},
   "outputs": [
    {
     "data": {
      "image/png": "[encoded data removed]",
      "text/plain": [
       "<Figure size 432x288 with 2 Axes>"
      ]
     },
     "metadata": {
      "needs_background": "light"
     },
     "output_type": "display_data"
    }
   ],
   "source": [
    "plt.scatter(data.X1,data.X2, alpha = 0.8, c = conf_level, cmap = 'seismic')\n",
    "cbar = plt.colorbar()"
   ]
  },
  {
   "cell_type": "markdown",
   "metadata": {
    "id": "V8ixVkZ9nkYt",
    "outputId": "afe9f1f0-32df-4bab-b782-519c839a99e5"
   },
   "source": [
    "#### 9. Do the same with the second model"
   ]
  },
  {
   "cell_type": "code",
   "execution_count": 40,
   "metadata": {},
   "outputs": [
    {
     "data": {
      "text/plain": [
       "array([  8.66665722,   4.33598681,  11.23379762,   3.97825012,\n",
       "         0.85259381,   4.43027354,   4.34762181,  11.05797097,\n",
       "         7.02326806,  10.42333389,   7.70017083,   1.068126  ,\n",
       "         4.7244307 ,   7.90481996,   2.85982909,   9.85893468,\n",
       "         8.20310349,   5.80197018,   2.78803731,   2.60655348,\n",
       "        -1.08898435,  -1.        ,  -4.11045402,  -3.72884333,\n",
       "        -1.90510017,  -2.78665207,  -4.56240094,  -7.91183199,\n",
       "        -5.40012817,  -9.4441299 ,  -6.97579849,  -9.34190538,\n",
       "        -3.33203035,  -3.16894329,  -5.8643906 ,  -7.50137572,\n",
       "       -10.70292199,  -7.54929858,  -5.25227156,  -5.72856997,\n",
       "        -2.54951357,  -3.1584663 ,  -0.73695102,  -7.45576379,\n",
       "        -3.75809496,  -7.56248748, -11.93924731,  -1.77724257,\n",
       "        -5.33057589,  -8.7348519 ,   0.05648563])"
      ]
     },
     "execution_count": 40,
     "metadata": {},
     "output_type": "execute_result"
    }
   ],
   "source": [
    "conf_level2"
   ]
  },
  {
   "cell_type": "code",
   "execution_count": 39,
   "metadata": {},
   "outputs": [
    {
     "data": {
      "image/png": "[encoded data removed]",
      "text/plain": [
       "<Figure size 432x288 with 2 Axes>"
      ]
     },
     "metadata": {
      "needs_background": "light"
     },
     "output_type": "display_data"
    }
   ],
   "source": [
    "conf_level2 = svc2.decision_function(X)\n",
    "plt.scatter(data.X1,data.X2, alpha = 0.8, c = conf_level2, cmap = 'seismic')\n",
    "cbar = plt.colorbar()"
   ]
  },
  {
   "cell_type": "markdown",
   "metadata": {
    "id": "J12IY0QCnkYz"
   },
   "source": [
    "Now we're going to move from a linear SVM to one that's capable of non-linear classification using kernels.  We're first tasked with implementing a gaussian kernel function.  Although scikit-learn has a gaussian kernel built in, for transparency we'll implement one from scratch.\n",
    "\n",
    "## Exercise 2"
   ]
  },
  {
   "cell_type": "markdown",
   "metadata": {
    "id": "DMvQlK0wnkY4"
   },
   "source": [
    "That result matches the expected value from the exercise.  Next we're going to examine another data set, this time with a non-linear decision boundary."
   ]
  },
  {
   "cell_type": "markdown",
   "metadata": {},
   "source": [
    "#### 1. Load the data `ejer_1_data2.mat`"
   ]
  },
  {
   "cell_type": "code",
   "execution_count": 42,
   "metadata": {},
   "outputs": [],
   "source": [
    "raw_data = loadmat('data/ejer_1_data2.mat')"
   ]
  },
  {
   "cell_type": "code",
   "execution_count": 43,
   "metadata": {},
   "outputs": [
    {
     "data": {
      "text/plain": [
       "dict_keys(['__header__', '__version__', '__globals__', 'X', 'y'])"
      ]
     },
     "execution_count": 43,
     "metadata": {},
     "output_type": "execute_result"
    }
   ],
   "source": [
    "raw_data.keys()"
   ]
  },
  {
   "cell_type": "markdown",
   "metadata": {},
   "source": [
    "#### 2. Create a DataFrame with the features and target"
   ]
  },
  {
   "cell_type": "code",
   "execution_count": 44,
   "metadata": {},
   "outputs": [
    {
     "data": {
      "text/html": [
       "<div>\n",
       "<style scoped>\n",
       "    .dataframe tbody tr th:only-of-type {\n",
       "        vertical-align: middle;\n",
       "    }\n",
       "\n",
       "    .dataframe tbody tr th {\n",
       "        vertical-align: top;\n",
       "    }\n",
       "\n",
       "    .dataframe thead th {\n",
       "        text-align: right;\n",
       "    }\n",
       "</style>\n",
       "<table border=\"1\" class=\"dataframe\">\n",
       "  <thead>\n",
       "    <tr style=\"text-align: right;\">\n",
       "      <th></th>\n",
       "      <th>X1</th>\n",
       "      <th>X2</th>\n",
       "      <th>y</th>\n",
       "    </tr>\n",
       "  </thead>\n",
       "  <tbody>\n",
       "    <tr>\n",
       "      <th>0</th>\n",
       "      <td>0.107143</td>\n",
       "      <td>0.603070</td>\n",
       "      <td>1</td>\n",
       "    </tr>\n",
       "    <tr>\n",
       "      <th>1</th>\n",
       "      <td>0.093318</td>\n",
       "      <td>0.649854</td>\n",
       "      <td>1</td>\n",
       "    </tr>\n",
       "    <tr>\n",
       "      <th>2</th>\n",
       "      <td>0.097926</td>\n",
       "      <td>0.705409</td>\n",
       "      <td>1</td>\n",
       "    </tr>\n",
       "    <tr>\n",
       "      <th>3</th>\n",
       "      <td>0.155530</td>\n",
       "      <td>0.784357</td>\n",
       "      <td>1</td>\n",
       "    </tr>\n",
       "    <tr>\n",
       "      <th>4</th>\n",
       "      <td>0.210829</td>\n",
       "      <td>0.866228</td>\n",
       "      <td>1</td>\n",
       "    </tr>\n",
       "  </tbody>\n",
       "</table>\n",
       "</div>"
      ],
      "text/plain": [
       "         X1        X2  y\n",
       "0  0.107143  0.603070  1\n",
       "1  0.093318  0.649854  1\n",
       "2  0.097926  0.705409  1\n",
       "3  0.155530  0.784357  1\n",
       "4  0.210829  0.866228  1"
      ]
     },
     "execution_count": 44,
     "metadata": {},
     "output_type": "execute_result"
    }
   ],
   "source": [
    "data = pd.DataFrame(raw_data['X'], columns = [\"X1\", \"X2\"])\n",
    "data['y'] = raw_data['y']\n",
    "data.head()"
   ]
  },
  {
   "cell_type": "code",
   "execution_count": 46,
   "metadata": {},
   "outputs": [
    {
     "name": "stdout",
     "output_type": "stream",
     "text": [
      "<class 'pandas.core.frame.DataFrame'>\n",
      "RangeIndex: 863 entries, 0 to 862\n",
      "Data columns (total 3 columns):\n",
      " #   Column  Non-Null Count  Dtype  \n",
      "---  ------  --------------  -----  \n",
      " 0   X1      863 non-null    float64\n",
      " 1   X2      863 non-null    float64\n",
      " 2   y       863 non-null    uint8  \n",
      "dtypes: float64(2), uint8(1)\n",
      "memory usage: 14.5 KB\n"
     ]
    }
   ],
   "source": [
    "data.info()"
   ]
  },
  {
   "cell_type": "code",
   "execution_count": 47,
   "metadata": {},
   "outputs": [
    {
     "data": {
      "text/html": [
       "<div>\n",
       "<style scoped>\n",
       "    .dataframe tbody tr th:only-of-type {\n",
       "        vertical-align: middle;\n",
       "    }\n",
       "\n",
       "    .dataframe tbody tr th {\n",
       "        vertical-align: top;\n",
       "    }\n",
       "\n",
       "    .dataframe thead th {\n",
       "        text-align: right;\n",
       "    }\n",
       "</style>\n",
       "<table border=\"1\" class=\"dataframe\">\n",
       "  <thead>\n",
       "    <tr style=\"text-align: right;\">\n",
       "      <th></th>\n",
       "      <th>X1</th>\n",
       "      <th>X2</th>\n",
       "      <th>y</th>\n",
       "    </tr>\n",
       "  </thead>\n",
       "  <tbody>\n",
       "    <tr>\n",
       "      <th>count</th>\n",
       "      <td>863.000000</td>\n",
       "      <td>863.000000</td>\n",
       "      <td>863.000000</td>\n",
       "    </tr>\n",
       "    <tr>\n",
       "      <th>mean</th>\n",
       "      <td>0.503414</td>\n",
       "      <td>0.694304</td>\n",
       "      <td>0.556199</td>\n",
       "    </tr>\n",
       "    <tr>\n",
       "      <th>std</th>\n",
       "      <td>0.254967</td>\n",
       "      <td>0.158884</td>\n",
       "      <td>0.497120</td>\n",
       "    </tr>\n",
       "    <tr>\n",
       "      <th>min</th>\n",
       "      <td>0.044931</td>\n",
       "      <td>0.402632</td>\n",
       "      <td>0.000000</td>\n",
       "    </tr>\n",
       "    <tr>\n",
       "      <th>25%</th>\n",
       "      <td>0.292627</td>\n",
       "      <td>0.557018</td>\n",
       "      <td>0.000000</td>\n",
       "    </tr>\n",
       "    <tr>\n",
       "      <th>50%</th>\n",
       "      <td>0.512673</td>\n",
       "      <td>0.693713</td>\n",
       "      <td>1.000000</td>\n",
       "    </tr>\n",
       "    <tr>\n",
       "      <th>75%</th>\n",
       "      <td>0.699309</td>\n",
       "      <td>0.830409</td>\n",
       "      <td>1.000000</td>\n",
       "    </tr>\n",
       "    <tr>\n",
       "      <th>max</th>\n",
       "      <td>0.998848</td>\n",
       "      <td>0.988596</td>\n",
       "      <td>1.000000</td>\n",
       "    </tr>\n",
       "  </tbody>\n",
       "</table>\n",
       "</div>"
      ],
      "text/plain": [
       "               X1          X2           y\n",
       "count  863.000000  863.000000  863.000000\n",
       "mean     0.503414    0.694304    0.556199\n",
       "std      0.254967    0.158884    0.497120\n",
       "min      0.044931    0.402632    0.000000\n",
       "25%      0.292627    0.557018    0.000000\n",
       "50%      0.512673    0.693713    1.000000\n",
       "75%      0.699309    0.830409    1.000000\n",
       "max      0.998848    0.988596    1.000000"
      ]
     },
     "execution_count": 47,
     "metadata": {},
     "output_type": "execute_result"
    }
   ],
   "source": [
    "data.describe()"
   ]
  },
  {
   "cell_type": "markdown",
   "metadata": {},
   "source": [
    "#### 3. Plot a scatterplot with the data"
   ]
  },
  {
   "cell_type": "code",
   "execution_count": 50,
   "metadata": {},
   "outputs": [
    {
     "data": {
      "text/plain": [
       "<AxesSubplot:xlabel='X1', ylabel='X2'>"
      ]
     },
     "execution_count": 50,
     "metadata": {},
     "output_type": "execute_result"
    },
    {
     "data": {
      "image/png": "[encoded data removed]",
      "text/plain": [
       "<Figure size 432x288 with 1 Axes>"
      ]
     },
     "metadata": {
      "needs_background": "light"
     },
     "output_type": "display_data"
    }
   ],
   "source": [
    "sns.scatterplot(data=data, x='X1', y='X2', hue='y')"
   ]
  },
  {
   "cell_type": "markdown",
   "metadata": {
    "id": "LIRNjrjwnkY7"
   },
   "source": [
    "For this data set we'll build a support vector machine classifier using the built-in RBF kernel and examine its accuracy on the training data.  To visualize the decision boundary, this time we'll shade the points based on the predicted probability that the instance has a negative class label.  We'll see from the result that it gets most of them right."
   ]
  },
  {
   "cell_type": "markdown",
   "metadata": {},
   "source": [
    "#### 4. Declare a SVC with this hyperparameters\n",
    "```Python\n",
    "SVC(C=100, gamma=10, probability=True)\n",
    "```\n"
   ]
  },
  {
   "cell_type": "code",
   "execution_count": 56,
   "metadata": {
    "id": "2xgM0K5bnkY8",
    "outputId": "f14680f4-6460-4e16-bbeb-f360feddc862"
   },
   "outputs": [],
   "source": [
    "svc = svm.SVC(C=100, gamma=10, probability=True)"
   ]
  },
  {
   "cell_type": "markdown",
   "metadata": {},
   "source": [
    "#### 5. Fit the classifier and get the score"
   ]
  },
  {
   "cell_type": "code",
   "execution_count": 57,
   "metadata": {
    "id": "3hfAwRoDnkY_",
    "outputId": "3f48d1f3-4d49-487a-f231-04e8638cfcd8"
   },
   "outputs": [
    {
     "data": {
      "text/plain": [
       "0.9698725376593279"
      ]
     },
     "execution_count": 57,
     "metadata": {},
     "output_type": "execute_result"
    }
   ],
   "source": [
    "svc.fit(data[['X1','X2']], data['y'])\n",
    "svc.score(data[['X1','X2']], data['y'])"
   ]
  },
  {
   "cell_type": "markdown",
   "metadata": {},
   "source": [
    "#### 6. Plot the scatter plot and probability of predicting 0 with a [sequential color](https://matplotlib.org/3.1.1/tutorials/colors/colormaps.html)"
   ]
  },
  {
   "cell_type": "code",
   "execution_count": 68,
   "metadata": {},
   "outputs": [
    {
     "data": {
      "text/plain": [
       "array([3.00000090e-14, 3.00000090e-14, 3.00000090e-14, 6.27106153e-07,\n",
       "       5.38807661e-03, 1.67175235e-05, 7.88229822e-08, 1.00087780e-02,\n",
       "       3.00000090e-14, 3.00000090e-14, 3.00000090e-14, 1.17216316e-02,\n",
       "       7.33692925e-12, 3.00000090e-14, 3.00000090e-14, 3.52578115e-10,\n",
       "       2.51335819e-01, 5.87179696e-01, 3.00000090e-14, 3.00000090e-14,\n",
       "       1.37250734e-02, 9.60692460e-06, 8.17258197e-03, 1.21037778e-01,\n",
       "       1.75194970e-02, 1.97073469e-06, 9.77055042e-07, 2.20094920e-07,\n",
       "       2.88476330e-06, 2.19586083e-02, 1.60539947e-01, 2.70716423e-02,\n",
       "       3.00000090e-14, 3.00000090e-14, 3.00000090e-14, 3.00000090e-14,\n",
       "       3.00000090e-14, 2.77854036e-13, 2.92248861e-10, 3.40281500e-14,\n",
       "       3.00000090e-14, 3.00000090e-14, 3.00000090e-14, 3.00000090e-14,\n",
       "       3.00000090e-14, 3.00000090e-14, 3.00000090e-14, 1.26707863e-10,\n",
       "       6.57343720e-14, 3.00000090e-14, 4.18435708e-09, 1.49490986e-07,\n",
       "       9.47666170e-06, 8.00089849e-14, 3.00000090e-14, 3.00000090e-14,\n",
       "       3.00000090e-14, 3.00000090e-14, 3.00000090e-14, 3.95460604e-11,\n",
       "       1.07659604e-09, 3.00000090e-14, 3.00000090e-14, 5.48419098e-06,\n",
       "       2.89211621e-07, 2.42234895e-08, 4.04311230e-08, 6.80342381e-08,\n",
       "       2.74380392e-06, 4.57755603e-07, 1.00326771e-09, 1.62452521e-11,\n",
       "       8.80206154e-09, 3.31876392e-09, 3.39487275e-08, 6.64897152e-09,\n",
       "       4.69299950e-09, 1.53938198e-07, 3.15880627e-07, 3.70048897e-07,\n",
       "       6.04000411e-06, 3.57377211e-03, 5.88866430e-03, 1.60641562e-02,\n",
       "       1.44386735e-05, 6.86340253e-06, 8.33379232e-08, 1.00334632e-08,\n",
       "       4.94970182e-09, 1.58078235e-07, 4.12849198e-06, 1.12950018e-02,\n",
       "       2.56663828e-03, 1.35370978e-05, 9.59225405e-06, 9.32864239e-08,\n",
       "       2.17586533e-09, 2.97840607e-07, 3.00000090e-14, 3.00000090e-14,\n",
       "       5.81915345e-08, 1.27176971e-09, 2.71957248e-10, 3.46602994e-06,\n",
       "       4.27391515e-03, 1.54679184e-07, 4.36338304e-08, 6.79639025e-06,\n",
       "       1.82592402e-01, 6.71366662e-01, 3.95610203e-02, 4.75946765e-11,\n",
       "       3.00000090e-14, 3.30946185e-13, 2.95879273e-08, 1.87350707e-02,\n",
       "       2.85787770e-06, 3.00000090e-14, 3.00000090e-14, 3.00000090e-14,\n",
       "       3.00000090e-14, 3.00000090e-14, 2.32829301e-12, 3.00000090e-14,\n",
       "       3.60694539e-09, 3.96636961e-03, 4.03323668e-03, 4.79596614e-06,\n",
       "       1.97037118e-07, 6.59226265e-07, 2.77589387e-03, 6.77936933e-06,\n",
       "       8.12036284e-07, 9.04563393e-07, 1.05442387e-08, 6.07834361e-08,\n",
       "       4.69243522e-06, 5.10363479e-03, 6.11326110e-03, 3.42960516e-03,\n",
       "       2.09849928e-07, 7.08421006e-06, 3.80424294e-08, 7.91986533e-07,\n",
       "       3.43526793e-12, 3.00000090e-14, 3.00000090e-14, 3.00000090e-14,\n",
       "       1.39018655e-02, 1.57990693e-05, 5.53220390e-02, 4.51078438e-02,\n",
       "       1.80181318e-02, 9.24764852e-03, 7.99345172e-03, 1.58186244e-02,\n",
       "       2.93496685e-02, 1.54760342e-02, 1.06948318e-02, 1.29476136e-02,\n",
       "       6.29931475e-02, 5.53141971e-02, 4.86371507e-02, 4.14140418e-02,\n",
       "       5.53846703e-02, 3.17562106e-03, 2.03616483e-07, 2.96064087e-03,\n",
       "       1.17785893e-01, 3.12590449e-03, 3.00000090e-14, 3.00000090e-14,\n",
       "       3.00000090e-14, 3.00000090e-14, 4.57715269e-09, 3.00000090e-14,\n",
       "       3.00000090e-14, 9.24885439e-10, 2.82769693e-03, 3.00000090e-14,\n",
       "       3.00000090e-14, 3.00000090e-14, 3.00000090e-14, 3.00000090e-14,\n",
       "       3.00000090e-14, 3.00000090e-14, 3.00000090e-14, 3.00000090e-14,\n",
       "       3.00000090e-14, 3.00000090e-14, 1.66318740e-12, 2.66025047e-06,\n",
       "       3.26942555e-01, 3.36697942e-01, 3.81941729e-01, 9.07259711e-01,\n",
       "       9.55544821e-01, 9.89965076e-01, 9.92654178e-01, 9.99000401e-01,\n",
       "       9.99528260e-01, 9.65855806e-01, 8.95525063e-01, 9.55684149e-01,\n",
       "       9.99310018e-01, 9.99891854e-01, 9.99147835e-01, 9.99382474e-01,\n",
       "       9.97599965e-01, 9.96517854e-01, 9.99762030e-01, 9.99827930e-01,\n",
       "       9.99163824e-01, 9.99165159e-01, 9.99984110e-01, 9.99997632e-01,\n",
       "       9.99996615e-01, 9.99961445e-01, 9.99985372e-01, 9.99996843e-01,\n",
       "       9.99996507e-01, 9.99993233e-01, 9.99955496e-01, 9.96896637e-01,\n",
       "       9.99270400e-01, 9.99188634e-01, 9.99408538e-01, 9.99952688e-01,\n",
       "       9.99979908e-01, 9.99994528e-01, 9.99998300e-01, 9.99997983e-01,\n",
       "       9.99994920e-01, 9.99971468e-01, 9.98396498e-01, 9.89335607e-01,\n",
       "       9.02550661e-01, 6.88898600e-01, 8.43884209e-01, 8.73386722e-01,\n",
       "       9.98425581e-01, 9.99373535e-01, 9.98087121e-01, 9.83024079e-01,\n",
       "       9.97117253e-01, 9.99752853e-01, 9.99985574e-01, 9.99994274e-01,\n",
       "       9.99997209e-01, 9.99994940e-01, 9.99965702e-01, 9.99976778e-01,\n",
       "       9.97053232e-01, 9.98517221e-01, 8.85954800e-01, 7.24407243e-01,\n",
       "       9.40338309e-01, 9.91910379e-01, 9.99244527e-01, 9.99904162e-01,\n",
       "       9.99976750e-01, 9.99695762e-01, 9.99890725e-01, 9.99921577e-01,\n",
       "       9.99645730e-01, 8.60782425e-01, 9.42239179e-01, 8.10670260e-01,\n",
       "       8.46853255e-01, 8.33833514e-01, 8.01009012e-01, 8.62175483e-01,\n",
       "       8.99550911e-01, 9.11013695e-01, 8.65896544e-01, 8.06842229e-01,\n",
       "       7.96542362e-01, 8.42471527e-01, 9.66163896e-01, 9.66286763e-01,\n",
       "       9.47475730e-01, 9.63322174e-01, 9.76035596e-01, 9.84117843e-01,\n",
       "       9.88172418e-01, 9.93340627e-01, 9.93189892e-01, 9.74977593e-01,\n",
       "       9.13707161e-01, 8.76587057e-01, 9.46133059e-01, 9.98880235e-01,\n",
       "       9.99574696e-01, 9.99898581e-01, 9.99876629e-01, 9.91080378e-01,\n",
       "       9.35441502e-01, 9.36917940e-01, 9.34511084e-01, 9.72595370e-01,\n",
       "       9.90039116e-01, 9.96501672e-01, 9.73505482e-01, 9.91727849e-01,\n",
       "       9.75604681e-01, 9.82530144e-01, 9.49282593e-01, 9.07192185e-01,\n",
       "       8.97445091e-01, 9.43843928e-01, 8.90498761e-01, 9.38141218e-01,\n",
       "       9.45757225e-01, 9.39293190e-01, 9.45745241e-01, 9.59836905e-01,\n",
       "       9.79064044e-01, 9.81156456e-01, 9.82383208e-01, 9.87604141e-01,\n",
       "       9.91742375e-01, 9.86794636e-01, 9.82232607e-01, 8.91333179e-01,\n",
       "       1.62584787e-02, 2.40987075e-01, 1.61281516e-01, 1.26371477e-02,\n",
       "       5.17455996e-01, 5.53778833e-02, 2.43097412e-02, 3.41789826e-02,\n",
       "       3.86341917e-02, 4.78268068e-08, 5.11626605e-11, 2.99340969e-07,\n",
       "       3.68070943e-08, 3.57051412e-09, 2.02529375e-09, 2.42036336e-08,\n",
       "       2.13822245e-07, 1.67496355e-12, 3.00000090e-14, 3.47745632e-14,\n",
       "       1.30617063e-13, 3.00000090e-14, 3.00000090e-14, 3.00000090e-14,\n",
       "       3.00000090e-14, 3.00000090e-14, 3.00000090e-14, 3.00000090e-14,\n",
       "       3.00000090e-14, 3.00000090e-14, 1.52417467e-10, 4.74837925e-10,\n",
       "       3.00000090e-14, 3.00000090e-14, 8.10226250e-03, 8.10226250e-03,\n",
       "       2.74140742e-07, 1.44616596e-10, 5.85489105e-07, 3.00000090e-14,\n",
       "       2.14964367e-09, 3.00000090e-14, 3.00000090e-14, 3.00000090e-14,\n",
       "       3.00000090e-14, 3.00000090e-14, 3.00000090e-14, 3.00000090e-14,\n",
       "       1.60182469e-08, 3.00000090e-14, 3.00000090e-14, 3.00000090e-14,\n",
       "       3.00000090e-14, 9.99988958e-01, 9.99936994e-01, 9.99979649e-01,\n",
       "       9.99997473e-01, 9.99968791e-01, 9.99945524e-01, 9.99804474e-01,\n",
       "       9.97433055e-01, 9.79965285e-01, 9.99913240e-01, 9.82398362e-01,\n",
       "       9.98184091e-01, 9.72741806e-01, 9.99487716e-01, 8.71854134e-01,\n",
       "       9.88786329e-01, 9.95887888e-01, 9.97476357e-01, 9.95918168e-01,\n",
       "       9.49295300e-01, 9.55922924e-01, 9.85812118e-01, 9.93874860e-01,\n",
       "       9.95965073e-01, 9.94522852e-01, 9.83467209e-01, 9.15398528e-01,\n",
       "       7.45732804e-01, 5.79707687e-01, 5.50249719e-02, 5.38611507e-02,\n",
       "       7.05103740e-02, 2.10125807e-01, 1.71744721e-01, 3.94799276e-02,\n",
       "       1.51213902e-02, 1.30528548e-02, 1.58402464e-02, 1.44567182e-02,\n",
       "       7.38292677e-03, 8.29169612e-03, 8.23022507e-03, 7.74276376e-03,\n",
       "       4.59378377e-03, 5.93017969e-03, 6.26841018e-03, 2.01821267e-02,\n",
       "       9.01739410e-02, 6.84140617e-01, 8.19917881e-01, 8.39282113e-01,\n",
       "       1.12587174e-01, 3.61370875e-02, 4.85827545e-02, 7.97727152e-02,\n",
       "       1.63575599e-01, 2.44633948e-01, 1.58035553e-01, 1.35039006e-01,\n",
       "       5.25445229e-02, 5.09255007e-03, 5.60346809e-03, 6.02708248e-03,\n",
       "       6.10954674e-03, 6.70066983e-03, 2.22882037e-01, 2.66109936e-01,\n",
       "       8.84241864e-02, 8.84241864e-02, 3.19307143e-02, 2.24578624e-01,\n",
       "       8.51445414e-03, 2.80431263e-02, 3.59577954e-02, 4.39868095e-02,\n",
       "       1.39885292e-01, 9.99983871e-01, 9.99987835e-01, 9.99997500e-01,\n",
       "       9.99995037e-01, 9.99990460e-01, 9.99992216e-01, 9.99982828e-01,\n",
       "       9.99910610e-01, 9.99990672e-01, 9.99990176e-01, 9.99997143e-01,\n",
       "       9.99997852e-01, 9.99995151e-01, 9.99977203e-01, 9.99973251e-01,\n",
       "       9.99826637e-01, 9.99804364e-01, 9.98624609e-01, 9.99817874e-01,\n",
       "       9.99994868e-01, 9.99996047e-01, 9.99994334e-01, 9.99744817e-01,\n",
       "       9.99966005e-01, 9.69186655e-01, 9.07344653e-01, 9.32657089e-01,\n",
       "       9.94362702e-01, 9.97522998e-01, 9.97897873e-01, 9.95137933e-01,\n",
       "       9.70569654e-01, 9.48625690e-01, 9.49930506e-01, 8.85499941e-01,\n",
       "       9.83536900e-01, 9.94735696e-01, 9.81093557e-01, 9.43243048e-01,\n",
       "       9.56072907e-01, 9.84261069e-01, 9.90392172e-01, 9.94311677e-01,\n",
       "       9.74661289e-01, 9.56010468e-01, 9.65583086e-01, 9.79428845e-01,\n",
       "       9.80317950e-01, 9.96076315e-01, 9.97949462e-01, 9.98007601e-01,\n",
       "       9.98167912e-01, 9.98220456e-01, 9.98192704e-01, 9.98187144e-01,\n",
       "       9.97227514e-01, 9.93751060e-01, 9.94605905e-01, 9.96605877e-01,\n",
       "       9.98290389e-01, 9.97900443e-01, 9.95746015e-01, 9.87840166e-01,\n",
       "       9.71646334e-01, 8.25825657e-07, 1.25028346e-12, 1.25306431e-11,\n",
       "       3.00000090e-14, 3.00000090e-14, 3.00000090e-14, 3.00000090e-14,\n",
       "       9.43972838e-14, 3.00000090e-14, 5.71010418e-10, 1.25234918e-10,\n",
       "       4.60066162e-07, 1.71850257e-10, 2.88774436e-01, 3.00000090e-14,\n",
       "       5.88845174e-10, 3.00000090e-14, 3.00000090e-14, 3.00000090e-14,\n",
       "       3.00000090e-14, 3.00000090e-14, 3.00000090e-14, 3.00000090e-14,\n",
       "       3.00000090e-14, 3.00000090e-14, 1.60345907e-05, 9.92068862e-01,\n",
       "       9.47612302e-01, 9.07163299e-01, 8.66292083e-01, 9.28656177e-01,\n",
       "       9.47065748e-01, 9.02440818e-01, 9.49632455e-01, 9.62805560e-01,\n",
       "       9.75612877e-01, 9.79857027e-01, 9.81410669e-01, 9.81253573e-01,\n",
       "       9.80754641e-01, 9.89550353e-01, 9.72985656e-01, 9.23482927e-01,\n",
       "       9.60166335e-01, 9.49968954e-01, 9.33463974e-01, 9.07238413e-01,\n",
       "       9.44712006e-01, 9.07307614e-01, 9.51869528e-01, 9.79509965e-01,\n",
       "       9.93147861e-01, 9.95700542e-01, 9.97324449e-01, 9.83341895e-01,\n",
       "       9.83980213e-01, 9.99171167e-01, 9.99881530e-01, 9.98341334e-01,\n",
       "       5.53782462e-02, 3.00000090e-14, 3.00000090e-14, 3.00000090e-14,\n",
       "       3.00000090e-14, 3.00000090e-14, 3.00000090e-14, 3.18694890e-12,\n",
       "       1.69327967e-05, 5.53901343e-02, 1.75798086e-02, 1.61331282e-09,\n",
       "       3.00000090e-14, 3.00000090e-14, 3.00000090e-14, 3.00000090e-14,\n",
       "       3.00000090e-14, 1.57586384e-11, 3.00000090e-14, 3.00000090e-14,\n",
       "       3.00000090e-14, 3.00000090e-14, 3.01352337e-14, 1.48175540e-13,\n",
       "       1.28857493e-07, 2.06189188e-06, 3.58649753e-02, 1.14221731e-01,\n",
       "       2.59279693e-01, 3.46962548e-01, 6.62254219e-01, 8.88548657e-01,\n",
       "       9.30778607e-01, 8.40439440e-01, 4.65058680e-01, 2.21077683e-01,\n",
       "       4.43790865e-02, 3.78049700e-03, 1.07354442e-06, 1.79127406e-06,\n",
       "       1.87058355e-02, 2.61012054e-01, 6.62254219e-01, 9.42066627e-01,\n",
       "       9.60538884e-01, 7.89326598e-01, 9.87449272e-01, 9.88040102e-01,\n",
       "       9.60587562e-01, 9.45520226e-01, 9.28242969e-01, 9.07171202e-01,\n",
       "       8.79473049e-01, 9.50132806e-01, 9.93028909e-01, 9.97507238e-01,\n",
       "       9.94584466e-01, 9.86671624e-01, 9.83318046e-01, 9.07157386e-01,\n",
       "       8.40159685e-01, 8.28611842e-01, 7.62526951e-01, 6.19056927e-01,\n",
       "       9.69506486e-01, 9.86647323e-01, 9.94039940e-01, 9.99969670e-01,\n",
       "       9.99997150e-01, 9.98242575e-01, 9.60223617e-01, 9.83826889e-01,\n",
       "       7.85489020e-01, 7.96860221e-01, 9.07247092e-01, 9.28756398e-01,\n",
       "       9.21238417e-01, 9.57156987e-01, 9.83296845e-01, 9.95562128e-01,\n",
       "       9.99997304e-01, 9.99999900e-01, 9.99317576e-01, 9.99732703e-01,\n",
       "       9.99972702e-01, 9.99970079e-01, 9.99986668e-01, 9.99995578e-01,\n",
       "       9.99919534e-01, 9.98444173e-01, 9.97864054e-01, 9.94358186e-01,\n",
       "       9.87431936e-01, 9.87431936e-01, 9.73436177e-01, 9.99002039e-01,\n",
       "       9.97700137e-01, 7.70827010e-01, 6.52459070e-01, 6.63481397e-01,\n",
       "       8.01356892e-01, 3.87498017e-01, 3.36974152e-01, 6.45543712e-01,\n",
       "       9.28852197e-01, 9.82707412e-01, 5.17964166e-01, 3.22713317e-01,\n",
       "       7.34207809e-01, 9.37365408e-01, 9.07188669e-01, 6.40603370e-03,\n",
       "       2.14826484e-02, 2.24035774e-02, 1.51824799e-02, 8.05836639e-03,\n",
       "       1.40456990e-02, 1.45293655e-02, 1.11690748e-02, 2.69545217e-02,\n",
       "       4.47993117e-02, 2.36988304e-02, 2.51610417e-02, 9.25661618e-02,\n",
       "       6.79684775e-02, 1.08619544e-01, 1.22091523e-01, 1.42587458e-01,\n",
       "       6.10531954e-02, 3.83334696e-02, 1.66709335e-02, 2.76377180e-01,\n",
       "       9.85295700e-02, 1.32770459e-01, 2.01634553e-01, 2.35744202e-01,\n",
       "       5.53625829e-02, 1.31290338e-02, 4.15299331e-02, 1.63953911e-02,\n",
       "       1.88953401e-02, 4.41532972e-14, 6.47750821e-09, 6.99606955e-13,\n",
       "       6.93662042e-14, 1.63368787e-13, 9.29855350e-12, 2.78685031e-11,\n",
       "       3.90742843e-13, 3.00000090e-14, 3.00000090e-14, 3.00000090e-14,\n",
       "       3.00000090e-14, 3.00000090e-14, 3.00000090e-14, 3.00000090e-14,\n",
       "       3.00000090e-14, 3.00000090e-14, 8.26759321e-13, 1.77354451e-10,\n",
       "       5.23688523e-08, 3.40909822e-03, 3.00000090e-14, 3.00000090e-14,\n",
       "       3.00000090e-14, 3.00000090e-14, 3.38735175e-09, 7.29069583e-01,\n",
       "       6.41509282e-01, 3.00000090e-14, 1.58149953e-09, 3.00000090e-14,\n",
       "       3.00000090e-14, 8.60804470e-10, 1.15849946e-08, 3.72303737e-09,\n",
       "       9.90773486e-01, 9.47096502e-01, 8.22722177e-01, 8.16993958e-01,\n",
       "       9.19123481e-01, 9.82150538e-01, 9.14269935e-01, 3.96814305e-01,\n",
       "       9.69335013e-01, 9.99888307e-01, 9.96652566e-01, 9.97694935e-01,\n",
       "       9.99950451e-01, 9.77502758e-01, 2.27688115e-01, 1.65170985e-01,\n",
       "       9.99241936e-01, 9.99963797e-01, 9.99839002e-01, 9.99863195e-01,\n",
       "       9.94743841e-01, 9.07349274e-01, 9.56244175e-01, 9.99850233e-01,\n",
       "       9.99971844e-01, 9.99983681e-01, 9.99986593e-01, 9.99982637e-01,\n",
       "       9.99854799e-01, 9.99353510e-01, 9.18980470e-01, 8.99242794e-01,\n",
       "       9.07142518e-01, 9.89403577e-01, 9.91977287e-01, 9.96889181e-01,\n",
       "       9.97474220e-01, 9.94810832e-01, 9.91000408e-01, 9.79984072e-01,\n",
       "       9.95185785e-01, 9.96699512e-01, 9.95721316e-01, 9.78317834e-01,\n",
       "       9.25146769e-01, 9.07284679e-01, 9.14458073e-01, 9.88902427e-01,\n",
       "       9.58367860e-01, 8.64095499e-01, 9.26488479e-01, 9.16593722e-01,\n",
       "       6.81318923e-01, 4.88355552e-01, 5.97822543e-01, 7.34636311e-01,\n",
       "       8.32328211e-01, 9.59270816e-01, 9.94492158e-01, 6.63998695e-01,\n",
       "       6.70440687e-01, 2.98141238e-02, 4.82910968e-01, 1.16583788e-01,\n",
       "       1.85463325e-02, 3.02835125e-07, 6.64974232e-06, 5.53700903e-02,\n",
       "       5.53700903e-02, 4.58201859e-06, 9.15398663e-08, 5.70401244e-11,\n",
       "       3.00000090e-14, 3.00000090e-14, 4.94603757e-08, 1.55832850e-09,\n",
       "       2.01558020e-11, 2.09232463e-09, 1.02691020e-08, 3.91367479e-10,\n",
       "       7.18398423e-10, 1.14756912e-02, 5.53644186e-02, 3.00000090e-14,\n",
       "       3.00000090e-14, 3.00000090e-14, 3.00000090e-14, 3.00000090e-14,\n",
       "       3.00000090e-14, 3.00000090e-14, 3.00000090e-14, 3.00000090e-14,\n",
       "       3.00000090e-14, 3.00000090e-14, 1.32238235e-12, 4.39174256e-06,\n",
       "       1.73135376e-01, 1.13695929e-05, 1.69452811e-09, 2.27881838e-10,\n",
       "       1.44683949e-06, 8.31137739e-02, 2.02773600e-02, 9.36903127e-03,\n",
       "       1.50600589e-05, 7.11570549e-03, 3.00000090e-14, 3.00000090e-14,\n",
       "       3.00000090e-14, 3.00000090e-14, 3.00000090e-14])"
      ]
     },
     "execution_count": 68,
     "metadata": {},
     "output_type": "execute_result"
    }
   ],
   "source": [
    "svc.predict_proba(data[['X1','X2']])[:,0]"
   ]
  },
  {
   "cell_type": "code",
   "execution_count": 70,
   "metadata": {},
   "outputs": [
    {
     "data": {
      "image/png": "[encoded data removed]",
      "text/plain": [
       "<Figure size 432x288 with 2 Axes>"
      ]
     },
     "metadata": {
      "needs_background": "light"
     },
     "output_type": "display_data"
    }
   ],
   "source": [
    "probabilities = svc.predict_proba(data[['X1','X2']])[:,0]\n",
    "\n",
    "plt.scatter(data.X1, data.X2, c = probabilities, cmap = 'seismic')\n",
    "cbar = plt.colorbar()"
   ]
  },
  {
   "cell_type": "markdown",
   "metadata": {},
   "source": [
    "## Exercise 3"
   ]
  },
  {
   "cell_type": "markdown",
   "metadata": {
    "id": "xRiiui_AnkZE"
   },
   "source": [
    "For the third data set we're given both training and validation sets and tasked with finding optimal hyper-parameters for an SVM model based on validation set performance.  Although we could use scikit-learn's built-in grid search to do this quite easily, in the spirit of following the exercise directions we'll implement a simple grid search from scratch.\n",
    "\n",
    "#### 1. Load the data `ejer_1_data3.mat`"
   ]
  },
  {
   "cell_type": "code",
   "execution_count": 20,
   "metadata": {},
   "outputs": [],
   "source": [
    "raw_data = loadmat('data/ejer_1_data3.mat')"
   ]
  },
  {
   "cell_type": "code",
   "execution_count": 21,
   "metadata": {},
   "outputs": [
    {
     "data": {
      "text/plain": [
       "dict_keys(['__header__', '__version__', '__globals__', 'X', 'y', 'yval', 'Xval'])"
      ]
     },
     "execution_count": 21,
     "metadata": {},
     "output_type": "execute_result"
    }
   ],
   "source": [
    "raw_data.keys()"
   ]
  },
  {
   "cell_type": "code",
   "execution_count": 22,
   "metadata": {},
   "outputs": [
    {
     "data": {
      "text/plain": [
       "array([[-1.58986e-01,  4.23977e-01],\n",
       "       [-3.47926e-01,  4.70760e-01],\n",
       "       [-5.04608e-01,  3.53801e-01],\n",
       "       [-5.96774e-01,  1.14035e-01],\n",
       "       [-5.18433e-01, -1.72515e-01],\n",
       "       [-2.92627e-01, -2.07602e-01],\n",
       "       [-1.58986e-01, -4.38596e-02],\n",
       "       [-5.76037e-02,  1.43275e-01],\n",
       "       [-7.14286e-02,  2.71930e-01],\n",
       "       [-2.97235e-01,  3.47953e-01],\n",
       "       [-4.17051e-01,  2.01754e-01],\n",
       "       [-4.40092e-01,  8.77193e-03],\n",
       "       [-3.24885e-01, -3.21637e-02],\n",
       "       [-2.46544e-01,  5.55556e-02],\n",
       "       [-2.18894e-01,  2.01754e-01],\n",
       "       [-3.43318e-01,  1.60819e-01],\n",
       "       [-5.09217e-01,  7.89474e-02],\n",
       "       [-3.84793e-01, -9.06433e-02],\n",
       "       [-1.49770e-01,  1.25731e-01],\n",
       "       [-1.95853e-01,  3.24561e-01],\n",
       "       [-3.91705e-02, -2.19298e-01],\n",
       "       [-1.08295e-01, -3.01170e-01],\n",
       "       [-1.86636e-01, -3.30409e-01],\n",
       "       [-2.18894e-01, -4.23977e-01],\n",
       "       [-8.06452e-02, -5.64327e-01],\n",
       "       [ 6.68203e-02, -5.17544e-01],\n",
       "       [ 9.44700e-02, -3.24561e-01],\n",
       "       [ 1.86636e-01, -1.66667e-01],\n",
       "       [ 6.22120e-02, -7.30994e-02],\n",
       "       [ 2.07373e-02, -1.95906e-01],\n",
       "       [ 2.99539e-02, -3.42105e-01],\n",
       "       [-9.90783e-02, -3.77193e-01],\n",
       "       [-6.91244e-03, -4.64912e-01],\n",
       "       [ 1.31336e-01, -4.29825e-01],\n",
       "       [ 2.32719e-01, -1.95906e-01],\n",
       "       [ 8.52535e-02, -8.47953e-02],\n",
       "       [-1.31336e-01, -2.36842e-01],\n",
       "       [ 2.30415e-03, -1.25731e-01],\n",
       "       [ 1.22120e-01, -2.92398e-03],\n",
       "       [-3.47926e-01, -3.12865e-01],\n",
       "       [-2.28111e-01, -1.25731e-01],\n",
       "       [-7.60369e-02,  1.46199e-02],\n",
       "       [ 4.37788e-02,  2.04678e-02],\n",
       "       [ 1.15207e-02,  1.54971e-01],\n",
       "       [-4.17051e-01, -1.60819e-01],\n",
       "       [-3.15668e-01, -3.18713e-01],\n",
       "       [ 1.26728e-01, -2.19298e-01],\n",
       "       [ 2.05069e-01, -3.12865e-01],\n",
       "       [ 2.18894e-01, -4.59064e-01],\n",
       "       [ 7.14286e-02, -6.46199e-01],\n",
       "       [-1.31336e-01, -6.05263e-01],\n",
       "       [-2.09677e-01, -5.81871e-01],\n",
       "       [-2.28111e-01, -4.29825e-01],\n",
       "       [-1.45161e-01, -4.12281e-01],\n",
       "       [-6.68203e-02, -4.82456e-01],\n",
       "       [ 1.35945e-01, -5.11696e-01],\n",
       "       [ 2.69585e-01, -4.06433e-01],\n",
       "       [ 2.97235e-01, -2.95322e-01],\n",
       "       [ 2.74194e-01, -1.72515e-01],\n",
       "       [ 2.55760e-01, -4.97076e-02],\n",
       "       [ 2.23502e-01, -4.97076e-02],\n",
       "       [ 1.82028e-01, -8.47953e-02],\n",
       "       [ 1.58986e-01, -1.54971e-01],\n",
       "       [ 7.14286e-02, -2.13450e-01],\n",
       "       [ 1.61290e-02, -2.66082e-01],\n",
       "       [-2.53456e-02, -3.83041e-01],\n",
       "       [-1.15207e-02, -4.82456e-01],\n",
       "       [-2.30415e-03, -5.05848e-01],\n",
       "       [ 2.53456e-02, -5.11696e-01],\n",
       "       [ 2.53456e-02, -5.58480e-01],\n",
       "       [ 1.15207e-02, -6.57895e-01],\n",
       "       [-4.83871e-02, -6.46199e-01],\n",
       "       [-8.52535e-02, -5.52632e-01],\n",
       "       [-9.90783e-02, -5.00000e-01],\n",
       "       [-1.61290e-02, -4.23977e-01],\n",
       "       [ 1.31336e-01, -3.59649e-01],\n",
       "       [ 2.23502e-01, -3.71345e-01],\n",
       "       [ 2.92627e-01, -3.01170e-01],\n",
       "       [ 2.60369e-01, -2.07602e-01],\n",
       "       [ 2.00461e-01, -2.25146e-01],\n",
       "       [ 1.72811e-01, -2.71930e-01],\n",
       "       [-1.31336e-01,  9.06433e-02],\n",
       "       [-1.49770e-01,  7.30994e-02],\n",
       "       [-2.41935e-01,  6.14035e-02],\n",
       "       [-3.01843e-01,  1.78363e-01],\n",
       "       [-2.97235e-01,  1.95906e-01],\n",
       "       [-2.74194e-01,  3.07018e-01],\n",
       "       [-3.24885e-01,  2.95322e-01],\n",
       "       [-3.98618e-01,  2.66082e-01],\n",
       "       [-4.35484e-01,  1.60819e-01],\n",
       "       [-4.72350e-01,  7.89474e-02],\n",
       "       [-3.38710e-01,  4.38596e-02],\n",
       "       [-2.69585e-01,  4.38596e-02],\n",
       "       [-2.55760e-01,  1.02339e-01],\n",
       "       [-1.68203e-01,  2.66082e-01],\n",
       "       [-1.12903e-01,  3.01170e-01],\n",
       "       [-3.91705e-02,  3.47953e-01],\n",
       "       [-1.26728e-01,  4.41520e-01],\n",
       "       [-2.32719e-01,  4.41520e-01],\n",
       "       [-3.38710e-01,  4.18129e-01],\n",
       "       [-4.12442e-01,  3.53801e-01],\n",
       "       [-5.09217e-01,  2.19298e-01],\n",
       "       [-5.41475e-01,  1.46199e-02],\n",
       "       [-5.04608e-01, -1.25731e-01],\n",
       "       [-4.90783e-01, -1.43275e-01],\n",
       "       [-3.61751e-01, -1.37427e-01],\n",
       "       [-2.69585e-01, -8.47953e-02],\n",
       "       [-2.23502e-01, -7.89474e-02],\n",
       "       [-1.86636e-01, -3.80117e-02],\n",
       "       [-1.54378e-01, -8.77193e-03],\n",
       "       [-1.12903e-01,  5.55556e-02],\n",
       "       [-8.52535e-02,  1.37427e-01],\n",
       "       [-8.52535e-02,  2.77778e-01],\n",
       "       [-1.68203e-01,  3.01170e-01],\n",
       "       [-1.91244e-01,  1.95906e-01],\n",
       "       [-1.40553e-01, -4.97076e-02],\n",
       "       [-2.99539e-02,  6.72515e-02],\n",
       "       [-2.00461e-01, -2.30994e-01],\n",
       "       [-1.08295e-01, -8.47953e-02],\n",
       "       [ 3.45622e-02,  6.72515e-02],\n",
       "       [ 8.06452e-02,  1.19883e-01],\n",
       "       [-3.85369e-01,  3.30409e-02],\n",
       "       [-3.81221e-01,  1.31287e-01],\n",
       "       [-3.52189e-01,  2.58187e-01],\n",
       "       [-3.54263e-01,  3.64620e-01],\n",
       "       [-4.14401e-01, -6.92982e-02],\n",
       "       [-4.99424e-01, -3.24561e-02],\n",
       "       [-2.98272e-01, -9.79532e-02],\n",
       "       [-3.16935e-01, -1.83918e-01],\n",
       "       [-3.68779e-01, -2.90351e-01],\n",
       "       [-3.56336e-01, -3.96784e-01],\n",
       "       [-2.71313e-01,  4.38596e-03],\n",
       "       [-1.77995e-01,  8.62573e-02],\n",
       "       [-2.46429e-01,  1.43567e-01],\n",
       "       [-2.50576e-01,  2.29532e-01],\n",
       "       [-2.21544e-01,  3.76901e-01],\n",
       "       [-2.15323e-01,  2.95029e-01],\n",
       "       [-1.30300e-01,  2.17251e-01],\n",
       "       [-2.07028e-01,  2.89474e-02],\n",
       "       [-9.71198e-02,  2.13158e-01],\n",
       "       [-3.90553e-02,  2.58187e-01],\n",
       "       [ 1.90092e-02,  4.01462e-01],\n",
       "       [-3.69816e-02,  4.21930e-01],\n",
       "       [-6.39401e-02,  3.31871e-01],\n",
       "       [-1.30300e-01,  3.76901e-01],\n",
       "       [-3.75000e-01, -4.37719e-01],\n",
       "       [-3.95737e-01, -3.51754e-01],\n",
       "       [-3.54263e-01, -2.08480e-01],\n",
       "       [-4.37212e-01, -3.76316e-01],\n",
       "       [-4.80760e-01, -5.03216e-01],\n",
       "       [-4.10253e-01, -4.66374e-01],\n",
       "       [-2.48502e-01, -2.57602e-01],\n",
       "       [-2.27765e-01, -3.14912e-01],\n",
       "       [-2.83756e-01, -3.84503e-01],\n",
       "       [-2.92051e-01, -4.54094e-01],\n",
       "       [-3.37673e-01, -5.19591e-01],\n",
       "       [-2.77535e-01, -5.48246e-01],\n",
       "       [-2.07028e-01, -5.35965e-01],\n",
       "       [-1.86290e-01, -4.78655e-01],\n",
       "       [-1.32373e-01, -5.07310e-01],\n",
       "       [-1.77995e-01, -2.98538e-01],\n",
       "       [-1.65553e-01, -1.75731e-01],\n",
       "       [-1.61406e-01, -1.26608e-01],\n",
       "       [ 3.45622e-04,  2.58187e-01],\n",
       "       [ 7.91475e-02,  3.56433e-01],\n",
       "       [-2.66129e-02,  1.80409e-01],\n",
       "       [-5.35714e-02,  7.80702e-02],\n",
       "       [-1.41705e-02, -5.29240e-02],\n",
       "       [-7.01613e-02, -1.63450e-01],\n",
       "       [-6.39401e-02, -2.94444e-01],\n",
       "       [-3.07604e-02, -4.66374e-01],\n",
       "       [-5.77189e-02, -5.27778e-01],\n",
       "       [-5.35714e-02, -3.96784e-01],\n",
       "       [ 5.21889e-02, -4.17251e-01],\n",
       "       [-1.62442e-02, -1.67544e-01],\n",
       "       [-6.39401e-02, -8.56725e-02],\n",
       "       [-6.18664e-02, -1.60819e-02],\n",
       "       [-3.80184e-03,  4.38596e-03],\n",
       "       [ 4.18203e-02,  2.04971e-01],\n",
       "       [ 7.91475e-02,  1.92690e-01],\n",
       "       [ 4.59677e-02,  2.54094e-01],\n",
       "       [ 1.18548e-01,  1.92690e-01],\n",
       "       [ 1.10253e-01,  8.62573e-02],\n",
       "       [ 1.08180e-01, -6.92982e-02],\n",
       "       [ 1.66244e-01, -2.42690e-02],\n",
       "       [ 1.41359e-01,  6.57895e-02],\n",
       "       [ 1.43433e-01,  1.68129e-01],\n",
       "       [ 1.70392e-01,  1.92690e-01],\n",
       "       [ 1.08180e-01,  2.99123e-01],\n",
       "       [ 1.18548e-01,  3.19591e-01],\n",
       "       [ 1.26843e-01,  3.93275e-01],\n",
       "       [-8.67512e-02,  4.21930e-01],\n",
       "       [-4.73502e-02,  5.07895e-01],\n",
       "       [ 2.52304e-02,  5.20175e-01],\n",
       "       [ 6.25576e-02,  5.52924e-01],\n",
       "       [-5.87558e-03,  4.42398e-01],\n",
       "       [-5.14977e-02,  5.73392e-01],\n",
       "       [-8.05300e-02,  5.07895e-01],\n",
       "       [-1.53111e-01,  5.52924e-01],\n",
       "       [-1.11636e-01,  5.48830e-01],\n",
       "       [-1.63479e-01,  4.91520e-01],\n",
       "       [-2.52650e-01, -1.88012e-01],\n",
       "       [-2.46429e-01, -3.65497e-02],\n",
       "       [-3.21083e-01, -4.33626e-01],\n",
       "       [-3.31452e-01, -6.05556e-01],\n",
       "       [-3.85369e-01, -5.15497e-01],\n",
       "       [-3.99885e-01, -6.21930e-01],\n",
       "       [-1.24078e-01, -1.26608e-01],\n",
       "       [-3.16935e-01, -2.28947e-01],\n",
       "       [-2.94124e-01, -1.34795e-01],\n",
       "       [-1.53111e-01,  1.84503e-01]])"
      ]
     },
     "execution_count": 22,
     "metadata": {},
     "output_type": "execute_result"
    }
   ],
   "source": [
    "raw_data['X']"
   ]
  },
  {
   "cell_type": "markdown",
   "metadata": {},
   "source": [
    "#### 2. Create a DataFrame with the features and target"
   ]
  },
  {
   "cell_type": "code",
   "execution_count": 78,
   "metadata": {},
   "outputs": [
    {
     "data": {
      "text/html": [
       "<div>\n",
       "<style scoped>\n",
       "    .dataframe tbody tr th:only-of-type {\n",
       "        vertical-align: middle;\n",
       "    }\n",
       "\n",
       "    .dataframe tbody tr th {\n",
       "        vertical-align: top;\n",
       "    }\n",
       "\n",
       "    .dataframe thead th {\n",
       "        text-align: right;\n",
       "    }\n",
       "</style>\n",
       "<table border=\"1\" class=\"dataframe\">\n",
       "  <thead>\n",
       "    <tr style=\"text-align: right;\">\n",
       "      <th></th>\n",
       "      <th>X1</th>\n",
       "      <th>X2</th>\n",
       "      <th>y</th>\n",
       "    </tr>\n",
       "  </thead>\n",
       "  <tbody>\n",
       "    <tr>\n",
       "      <th>0</th>\n",
       "      <td>-0.158986</td>\n",
       "      <td>0.423977</td>\n",
       "      <td>1</td>\n",
       "    </tr>\n",
       "    <tr>\n",
       "      <th>1</th>\n",
       "      <td>-0.347926</td>\n",
       "      <td>0.470760</td>\n",
       "      <td>1</td>\n",
       "    </tr>\n",
       "    <tr>\n",
       "      <th>2</th>\n",
       "      <td>-0.504608</td>\n",
       "      <td>0.353801</td>\n",
       "      <td>1</td>\n",
       "    </tr>\n",
       "    <tr>\n",
       "      <th>3</th>\n",
       "      <td>-0.596774</td>\n",
       "      <td>0.114035</td>\n",
       "      <td>1</td>\n",
       "    </tr>\n",
       "    <tr>\n",
       "      <th>4</th>\n",
       "      <td>-0.518433</td>\n",
       "      <td>-0.172515</td>\n",
       "      <td>1</td>\n",
       "    </tr>\n",
       "  </tbody>\n",
       "</table>\n",
       "</div>"
      ],
      "text/plain": [
       "         X1        X2  y\n",
       "0 -0.158986  0.423977  1\n",
       "1 -0.347926  0.470760  1\n",
       "2 -0.504608  0.353801  1\n",
       "3 -0.596774  0.114035  1\n",
       "4 -0.518433 -0.172515  1"
      ]
     },
     "execution_count": 78,
     "metadata": {},
     "output_type": "execute_result"
    }
   ],
   "source": [
    "data = pd.DataFrame(raw_data['X'], columns = [\"X1\", \"X2\"])\n",
    "data['y'] = raw_data['y']\n",
    "data.head()"
   ]
  },
  {
   "cell_type": "code",
   "execution_count": 73,
   "metadata": {},
   "outputs": [
    {
     "name": "stdout",
     "output_type": "stream",
     "text": [
      "<class 'pandas.core.frame.DataFrame'>\n",
      "RangeIndex: 211 entries, 0 to 210\n",
      "Data columns (total 3 columns):\n",
      " #   Column  Non-Null Count  Dtype  \n",
      "---  ------  --------------  -----  \n",
      " 0   X1      211 non-null    float64\n",
      " 1   X2      211 non-null    float64\n",
      " 2   y       211 non-null    uint8  \n",
      "dtypes: float64(2), uint8(1)\n",
      "memory usage: 3.6 KB\n"
     ]
    }
   ],
   "source": [
    "data.info()"
   ]
  },
  {
   "cell_type": "code",
   "execution_count": 74,
   "metadata": {},
   "outputs": [
    {
     "data": {
      "text/html": [
       "<div>\n",
       "<style scoped>\n",
       "    .dataframe tbody tr th:only-of-type {\n",
       "        vertical-align: middle;\n",
       "    }\n",
       "\n",
       "    .dataframe tbody tr th {\n",
       "        vertical-align: top;\n",
       "    }\n",
       "\n",
       "    .dataframe thead th {\n",
       "        text-align: right;\n",
       "    }\n",
       "</style>\n",
       "<table border=\"1\" class=\"dataframe\">\n",
       "  <thead>\n",
       "    <tr style=\"text-align: right;\">\n",
       "      <th></th>\n",
       "      <th>X1</th>\n",
       "      <th>X2</th>\n",
       "      <th>y</th>\n",
       "    </tr>\n",
       "  </thead>\n",
       "  <tbody>\n",
       "    <tr>\n",
       "      <th>count</th>\n",
       "      <td>211.000000</td>\n",
       "      <td>211.000000</td>\n",
       "      <td>211.000000</td>\n",
       "    </tr>\n",
       "    <tr>\n",
       "      <th>mean</th>\n",
       "      <td>-0.130246</td>\n",
       "      <td>-0.059743</td>\n",
       "      <td>0.502370</td>\n",
       "    </tr>\n",
       "    <tr>\n",
       "      <th>std</th>\n",
       "      <td>0.200516</td>\n",
       "      <td>0.314751</td>\n",
       "      <td>0.501183</td>\n",
       "    </tr>\n",
       "    <tr>\n",
       "      <th>min</th>\n",
       "      <td>-0.596774</td>\n",
       "      <td>-0.657895</td>\n",
       "      <td>0.000000</td>\n",
       "    </tr>\n",
       "    <tr>\n",
       "      <th>25%</th>\n",
       "      <td>-0.287903</td>\n",
       "      <td>-0.313889</td>\n",
       "      <td>0.000000</td>\n",
       "    </tr>\n",
       "    <tr>\n",
       "      <th>50%</th>\n",
       "      <td>-0.130300</td>\n",
       "      <td>-0.052924</td>\n",
       "      <td>1.000000</td>\n",
       "    </tr>\n",
       "    <tr>\n",
       "      <th>75%</th>\n",
       "      <td>0.013825</td>\n",
       "      <td>0.192690</td>\n",
       "      <td>1.000000</td>\n",
       "    </tr>\n",
       "    <tr>\n",
       "      <th>max</th>\n",
       "      <td>0.297235</td>\n",
       "      <td>0.573392</td>\n",
       "      <td>1.000000</td>\n",
       "    </tr>\n",
       "  </tbody>\n",
       "</table>\n",
       "</div>"
      ],
      "text/plain": [
       "               X1          X2           y\n",
       "count  211.000000  211.000000  211.000000\n",
       "mean    -0.130246   -0.059743    0.502370\n",
       "std      0.200516    0.314751    0.501183\n",
       "min     -0.596774   -0.657895    0.000000\n",
       "25%     -0.287903   -0.313889    0.000000\n",
       "50%     -0.130300   -0.052924    1.000000\n",
       "75%      0.013825    0.192690    1.000000\n",
       "max      0.297235    0.573392    1.000000"
      ]
     },
     "execution_count": 74,
     "metadata": {},
     "output_type": "execute_result"
    }
   ],
   "source": [
    "data.describe()"
   ]
  },
  {
   "cell_type": "markdown",
   "metadata": {},
   "source": [
    "#### 3. Get the validation data from the dataset `Xval` and `yval`"
   ]
  },
  {
   "cell_type": "code",
   "execution_count": 79,
   "metadata": {},
   "outputs": [
    {
     "data": {
      "text/html": [
       "<div>\n",
       "<style scoped>\n",
       "    .dataframe tbody tr th:only-of-type {\n",
       "        vertical-align: middle;\n",
       "    }\n",
       "\n",
       "    .dataframe tbody tr th {\n",
       "        vertical-align: top;\n",
       "    }\n",
       "\n",
       "    .dataframe thead th {\n",
       "        text-align: right;\n",
       "    }\n",
       "</style>\n",
       "<table border=\"1\" class=\"dataframe\">\n",
       "  <thead>\n",
       "    <tr style=\"text-align: right;\">\n",
       "      <th></th>\n",
       "      <th>X1</th>\n",
       "      <th>X2</th>\n",
       "      <th>y</th>\n",
       "    </tr>\n",
       "  </thead>\n",
       "  <tbody>\n",
       "    <tr>\n",
       "      <th>0</th>\n",
       "      <td>-0.353062</td>\n",
       "      <td>-0.673902</td>\n",
       "      <td>0</td>\n",
       "    </tr>\n",
       "    <tr>\n",
       "      <th>1</th>\n",
       "      <td>-0.227126</td>\n",
       "      <td>0.447320</td>\n",
       "      <td>1</td>\n",
       "    </tr>\n",
       "    <tr>\n",
       "      <th>2</th>\n",
       "      <td>0.092898</td>\n",
       "      <td>-0.753524</td>\n",
       "      <td>0</td>\n",
       "    </tr>\n",
       "    <tr>\n",
       "      <th>3</th>\n",
       "      <td>0.148243</td>\n",
       "      <td>-0.718473</td>\n",
       "      <td>0</td>\n",
       "    </tr>\n",
       "    <tr>\n",
       "      <th>4</th>\n",
       "      <td>-0.001512</td>\n",
       "      <td>0.162928</td>\n",
       "      <td>0</td>\n",
       "    </tr>\n",
       "  </tbody>\n",
       "</table>\n",
       "</div>"
      ],
      "text/plain": [
       "         X1        X2  y\n",
       "0 -0.353062 -0.673902  0\n",
       "1 -0.227126  0.447320  1\n",
       "2  0.092898 -0.753524  0\n",
       "3  0.148243 -0.718473  0\n",
       "4 -0.001512  0.162928  0"
      ]
     },
     "execution_count": 79,
     "metadata": {},
     "output_type": "execute_result"
    }
   ],
   "source": [
    "data_val = pd.DataFrame(raw_data['Xval'], columns = [\"X1\", \"X2\"])\n",
    "data_val['y'] = raw_data['yval']\n",
    "data_val.head()"
   ]
  },
  {
   "cell_type": "markdown",
   "metadata": {},
   "source": [
    "#### 4. Try different hyperparameters\n",
    "You are going to find the best hyperparameters that best fit your model.\n",
    "1. Try C from 0.01 to 100\n",
    "2. Try gamma from 0.01 to 100\n",
    "\n",
    "Train the model and then get the score with the validation data. Which combination of hyperparameters trains the best model in validation score?"
   ]
  },
  {
   "cell_type": "code",
   "execution_count": 80,
   "metadata": {},
   "outputs": [
    {
     "data": {
      "text/plain": [
       "(0.965, {'C': 0.3, 'gamma': 100})"
      ]
     },
     "execution_count": 80,
     "metadata": {},
     "output_type": "execute_result"
    }
   ],
   "source": [
    "C_values = [0.01, 0.03, 0.1, 0.3, 1, 3, 10, 30, 100]\n",
    "gamma_values = [0.01, 0.03, 0.1, 0.3, 1, 3, 10, 30, 100]\n",
    "\n",
    "best_score = 0\n",
    "best_params = {'C': None, 'gamma': None}\n",
    "\n",
    "for C in C_values:\n",
    "    for gamma in gamma_values:\n",
    "        svc = svm.SVC(C=C, gamma=gamma)\n",
    "        svc.fit(data[['X1', 'X2']], data['y'])\n",
    "        score = svc.score(data_val[['X1', 'X2']], data_val['y'])\n",
    "        \n",
    "        if score > best_score:\n",
    "            best_score = score\n",
    "            best_params['C'] = C\n",
    "            best_params['gamma'] = gamma\n",
    "\n",
    "best_score, best_params"
   ]
  },
  {
   "cell_type": "code",
   "execution_count": 91,
   "metadata": {},
   "outputs": [
    {
     "name": "stdout",
     "output_type": "stream",
     "text": [
      "Acc. Train 0.95260663507109  with C = 0.3\n",
      "Acc. Test 0.965  with C = 0.3\n"
     ]
    }
   ],
   "source": [
    "C_parameter = 0.3\n",
    "svc = svm.SVC(C=C_parameter, gamma=100)\n",
    "svc.fit(data[['X1', 'X2']], data['y'])\n",
    "print('Acc. Train', svc.score(data[['X1', 'X2']], data['y']), ' with C =', C_parameter)\n",
    "print('Acc. Test', svc.score(data_val[['X1', 'X2']], data_val['y']), ' with C =', C_parameter)"
   ]
  },
  {
   "cell_type": "markdown",
   "metadata": {
    "id": "ex3nqod6nkZI"
   },
   "source": [
    "## Exercise 4\n",
    "Now we'll move on to the second part of the exercise. In this part our objective is to use SVMs to build a spam filter.  In the exercise text, there's a task involving some text pre-processing to get our data in a format suitable for an SVM to handle.  However, the task is pretty trivial (mapping words to an ID from a dictionary that's provided for the exercise) and the rest of the pre-processing steps such as HTML removal, stemming, normalization etc. are already done.  Rather than reproduce these pre-processing steps, I'm going to skip ahead to the machine learning task which involves building a classifier from pre-processed train and test data sets consisting of spam and non-spam emails transformed to word occurance vectors.\n",
    "\n",
    "#### 1. Load the data `spamTrain.mat` and `spamTest.mat`"
   ]
  },
  {
   "cell_type": "code",
   "execution_count": 28,
   "metadata": {
    "id": "61GyjQiinkZI",
    "outputId": "7cdbfce2-8dfe-4e05-87b9-3e02809f5d3c"
   },
   "outputs": [],
   "source": [
    "spam_train = loadmat('data\\spamTrain.mat')\n",
    "spam_test = loadmat('data\\spamTest.mat')\n"
   ]
  },
  {
   "cell_type": "code",
   "execution_count": 29,
   "metadata": {},
   "outputs": [
    {
     "data": {
      "text/plain": [
       "dict_keys(['__header__', '__version__', '__globals__', 'X', 'y'])"
      ]
     },
     "execution_count": 29,
     "metadata": {},
     "output_type": "execute_result"
    }
   ],
   "source": [
    "spam_train.keys()"
   ]
  },
  {
   "cell_type": "code",
   "execution_count": 30,
   "metadata": {},
   "outputs": [
    {
     "data": {
      "text/plain": [
       "dict_keys(['__header__', '__version__', '__globals__', 'Xtest', 'ytest'])"
      ]
     },
     "execution_count": 30,
     "metadata": {},
     "output_type": "execute_result"
    }
   ],
   "source": [
    "spam_test.keys()"
   ]
  },
  {
   "cell_type": "markdown",
   "metadata": {},
   "source": [
    "#### 2. Create a DataFrame with the features and target, for train and test\n",
    "Be careful with the test dimensions"
   ]
  },
  {
   "cell_type": "code",
   "execution_count": 36,
   "metadata": {},
   "outputs": [
    {
     "name": "stderr",
     "output_type": "stream",
     "text": [
      "C:\\Users\\jamr1\\AppData\\Local\\Programs\\Python\\Python37\\lib\\site-packages\\ipykernel_launcher.py:5: FutureWarning: In a future version of pandas all arguments of DataFrame.drop except for the argument 'labels' will be keyword-only\n",
      "  \"\"\"\n"
     ]
    }
   ],
   "source": [
    "data_train = pd.DataFrame(spam_train['X'])\n",
    "data_train['y'] = spam_train['y']\n",
    "data_train.head()\n",
    "\n",
    "X_train = data_train.drop('y',1)\n",
    "y_train = data_train['y']"
   ]
  },
  {
   "cell_type": "code",
   "execution_count": 37,
   "metadata": {},
   "outputs": [
    {
     "name": "stderr",
     "output_type": "stream",
     "text": [
      "C:\\Users\\jamr1\\AppData\\Local\\Programs\\Python\\Python37\\lib\\site-packages\\ipykernel_launcher.py:5: FutureWarning: In a future version of pandas all arguments of DataFrame.drop except for the argument 'labels' will be keyword-only\n",
      "  \"\"\"\n"
     ]
    }
   ],
   "source": [
    "data_test = pd.DataFrame(spam_test['Xtest'])\n",
    "data_test['y'] = spam_test['ytest']\n",
    "data_test.head()\n",
    "\n",
    "X_test = data_test.drop('y',1)\n",
    "y_test = data_test['y']"
   ]
  },
  {
   "cell_type": "markdown",
   "metadata": {},
   "source": [
    "#### 3. Fit a SVC and get the accuracy in train and test"
   ]
  },
  {
   "cell_type": "code",
   "execution_count": 39,
   "metadata": {},
   "outputs": [
    {
     "data": {
      "text/plain": [
       "0.99975"
      ]
     },
     "execution_count": 39,
     "metadata": {},
     "output_type": "execute_result"
    }
   ],
   "source": [
    "from sklearn import svm\n",
    "\n",
    "svc = svm.LinearSVC(C=1, loss='hinge', max_iter=10000)\n",
    "\n",
    "\n",
    "svc.fit(X_train, y_train)\n",
    "svc.score(X_train, y_train)"
   ]
  },
  {
   "cell_type": "code",
   "execution_count": 40,
   "metadata": {},
   "outputs": [
    {
     "data": {
      "text/plain": [
       "0.977"
      ]
     },
     "execution_count": 40,
     "metadata": {},
     "output_type": "execute_result"
    }
   ],
   "source": [
    "\n",
    "svc.score(X_test, y_test)"
   ]
  },
  {
   "cell_type": "code",
   "execution_count": 43,
   "metadata": {},
   "outputs": [
    {
     "name": "stdout",
     "output_type": "stream",
     "text": [
      "Accuracy : 0.977\n"
     ]
    }
   ],
   "source": [
    "predictions5 = svc.predict(X_test)\n",
    "\n",
    "from sklearn.metrics import accuracy_score\n",
    "\n",
    "print('Accuracy :', accuracy_score(y_test,predictions5))"
   ]
  },
  {
   "cell_type": "markdown",
   "metadata": {
    "id": "3DqRr2QWnkZN"
   },
   "source": [
    "Each document has been converted to a vector with 1,899 dimensions corresponding to the 1,899 words in the vocabulary.  The values are binary, indicating the presence or absence of the word in the document.  At this point, training and evaluation are just a matter of fitting the testing the classifer. "
   ]
  }
 ],
 "metadata": {
  "colab": {
   "name": "ML-Exercise6.ipynb",
   "provenance": []
  },
  "kernelspec": {
   "display_name": "Python 3",
   "language": "python",
   "name": "python3"
  },
  "language_info": {
   "codemirror_mode": {
    "name": "ipython",
    "version": 3
   },
   "file_extension": ".py",
   "mimetype": "text/x-python",
   "name": "python",
   "nbconvert_exporter": "python",
   "pygments_lexer": "ipython3",
   "version": "3.7.4"
  }
 },
 "nbformat": 4,
 "nbformat_minor": 4
}
